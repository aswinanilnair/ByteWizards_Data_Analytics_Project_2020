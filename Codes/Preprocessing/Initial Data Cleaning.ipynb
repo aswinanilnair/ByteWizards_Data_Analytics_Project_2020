{
 "cells": [
  {
   "cell_type": "markdown",
   "metadata": {},
   "source": [
    "# EDA For DA Project\n",
    "## Import Libraries"
   ]
  },
  {
   "cell_type": "code",
   "execution_count": 1,
   "metadata": {},
   "outputs": [],
   "source": [
    "import pandas as pd\n",
    "import numpy as np\n",
    "import matplotlib.pyplot as plt\n",
    "import seaborn as sns\n",
    "%matplotlib inline"
   ]
  },
  {
   "cell_type": "markdown",
   "metadata": {},
   "source": [
    "## Read Dataset"
   ]
  },
  {
   "cell_type": "code",
   "execution_count": 2,
   "metadata": {},
   "outputs": [],
   "source": [
    "df = pd.read_csv('../../Datasets/DataAnalyst.csv')"
   ]
  },
  {
   "cell_type": "code",
   "execution_count": 104,
   "metadata": {},
   "outputs": [
    {
     "data": {
      "text/html": [
       "<div>\n",
       "<style scoped>\n",
       "    .dataframe tbody tr th:only-of-type {\n",
       "        vertical-align: middle;\n",
       "    }\n",
       "\n",
       "    .dataframe tbody tr th {\n",
       "        vertical-align: top;\n",
       "    }\n",
       "\n",
       "    .dataframe thead th {\n",
       "        text-align: right;\n",
       "    }\n",
       "</style>\n",
       "<table border=\"1\" class=\"dataframe\">\n",
       "  <thead>\n",
       "    <tr style=\"text-align: right;\">\n",
       "      <th></th>\n",
       "      <th>Unnamed: 0</th>\n",
       "      <th>Job Title</th>\n",
       "      <th>Salary Estimate</th>\n",
       "      <th>Job Description</th>\n",
       "      <th>Rating</th>\n",
       "      <th>Company Name</th>\n",
       "      <th>Location</th>\n",
       "      <th>Headquarters</th>\n",
       "      <th>Size</th>\n",
       "      <th>Founded</th>\n",
       "      <th>Type of ownership</th>\n",
       "      <th>Industry</th>\n",
       "      <th>Sector</th>\n",
       "      <th>Revenue</th>\n",
       "      <th>Competitors</th>\n",
       "      <th>Easy Apply</th>\n",
       "    </tr>\n",
       "  </thead>\n",
       "  <tbody>\n",
       "    <tr>\n",
       "      <th>0</th>\n",
       "      <td>0</td>\n",
       "      <td>Data Analyst, Center on Immigration and Justic...</td>\n",
       "      <td>$37K-$66K (Glassdoor est.)</td>\n",
       "      <td>Are you eager to roll up your sleeves and harn...</td>\n",
       "      <td>3.2</td>\n",
       "      <td>Vera Institute of Justice\\n3.2</td>\n",
       "      <td>New York, NY</td>\n",
       "      <td>New York, NY</td>\n",
       "      <td>201 to 500 employees</td>\n",
       "      <td>1961</td>\n",
       "      <td>Nonprofit Organization</td>\n",
       "      <td>Social Assistance</td>\n",
       "      <td>Non-Profit</td>\n",
       "      <td>$100 to $500 million (USD)</td>\n",
       "      <td>-1</td>\n",
       "      <td>True</td>\n",
       "    </tr>\n",
       "    <tr>\n",
       "      <th>1</th>\n",
       "      <td>1</td>\n",
       "      <td>Quality Data Analyst</td>\n",
       "      <td>$37K-$66K (Glassdoor est.)</td>\n",
       "      <td>Overview\\n\\nProvides analytical and technical ...</td>\n",
       "      <td>3.8</td>\n",
       "      <td>Visiting Nurse Service of New York\\n3.8</td>\n",
       "      <td>New York, NY</td>\n",
       "      <td>New York, NY</td>\n",
       "      <td>10000+ employees</td>\n",
       "      <td>1893</td>\n",
       "      <td>Nonprofit Organization</td>\n",
       "      <td>Health Care Services &amp; Hospitals</td>\n",
       "      <td>Health Care</td>\n",
       "      <td>$2 to $5 billion (USD)</td>\n",
       "      <td>-1</td>\n",
       "      <td>-1</td>\n",
       "    </tr>\n",
       "  </tbody>\n",
       "</table>\n",
       "</div>"
      ],
      "text/plain": [
       "   Unnamed: 0                                          Job Title  \\\n",
       "0           0  Data Analyst, Center on Immigration and Justic...   \n",
       "1           1                               Quality Data Analyst   \n",
       "\n",
       "              Salary Estimate  \\\n",
       "0  $37K-$66K (Glassdoor est.)   \n",
       "1  $37K-$66K (Glassdoor est.)   \n",
       "\n",
       "                                     Job Description  Rating  \\\n",
       "0  Are you eager to roll up your sleeves and harn...     3.2   \n",
       "1  Overview\\n\\nProvides analytical and technical ...     3.8   \n",
       "\n",
       "                              Company Name      Location  Headquarters  \\\n",
       "0           Vera Institute of Justice\\n3.2  New York, NY  New York, NY   \n",
       "1  Visiting Nurse Service of New York\\n3.8  New York, NY  New York, NY   \n",
       "\n",
       "                   Size  Founded       Type of ownership  \\\n",
       "0  201 to 500 employees     1961  Nonprofit Organization   \n",
       "1      10000+ employees     1893  Nonprofit Organization   \n",
       "\n",
       "                           Industry       Sector                     Revenue  \\\n",
       "0                 Social Assistance   Non-Profit  $100 to $500 million (USD)   \n",
       "1  Health Care Services & Hospitals  Health Care      $2 to $5 billion (USD)   \n",
       "\n",
       "  Competitors Easy Apply  \n",
       "0          -1       True  \n",
       "1          -1         -1  "
      ]
     },
     "execution_count": 104,
     "metadata": {},
     "output_type": "execute_result"
    }
   ],
   "source": [
    "df.head(2)"
   ]
  },
  {
   "cell_type": "markdown",
   "metadata": {},
   "source": [
    "#### Drop Unnamed: 0"
   ]
  },
  {
   "cell_type": "code",
   "execution_count": 105,
   "metadata": {},
   "outputs": [],
   "source": [
    "df.drop(['Unnamed: 0'], inplace=True, axis=1)"
   ]
  },
  {
   "cell_type": "markdown",
   "metadata": {},
   "source": [
    "## Check for NA"
   ]
  },
  {
   "cell_type": "markdown",
   "metadata": {},
   "source": [
    "#### Count of NA function"
   ]
  },
  {
   "cell_type": "code",
   "execution_count": 106,
   "metadata": {},
   "outputs": [],
   "source": [
    "def num_of_na(df):\n",
    "    return df.isna().sum()"
   ]
  },
  {
   "cell_type": "markdown",
   "metadata": {},
   "source": [
    "#### Percentage of NA function"
   ]
  },
  {
   "cell_type": "code",
   "execution_count": 107,
   "metadata": {},
   "outputs": [],
   "source": [
    "def percent_na(df):\n",
    "    for i in df.columns:\n",
    "        x = sum(df[i].isna())/len(df[i])*100\n",
    "        print(\"{}: {:.3f}%\".format(i, x))"
   ]
  },
  {
   "cell_type": "code",
   "execution_count": 108,
   "metadata": {},
   "outputs": [
    {
     "name": "stdout",
     "output_type": "stream",
     "text": [
      "Job Title: 0.000%\n",
      "Salary Estimate: 0.000%\n",
      "Job Description: 0.000%\n",
      "Rating: 0.000%\n",
      "Company Name: 0.044%\n",
      "Location: 0.000%\n",
      "Headquarters: 0.000%\n",
      "Size: 0.000%\n",
      "Founded: 0.000%\n",
      "Type of ownership: 0.000%\n",
      "Industry: 0.000%\n",
      "Sector: 0.000%\n",
      "Revenue: 0.000%\n",
      "Competitors: 0.000%\n",
      "Easy Apply: 0.000%\n"
     ]
    }
   ],
   "source": [
    "percent_na(df)"
   ]
  },
  {
   "cell_type": "markdown",
   "metadata": {},
   "source": [
    "#### HeatMap to check for Relation between NA Function"
   ]
  },
  {
   "cell_type": "code",
   "execution_count": 109,
   "metadata": {},
   "outputs": [],
   "source": [
    "def heatmap_check_na(df):\n",
    "    fig = plt.figure(figsize=(16,8))\n",
    "    plt.tight_layout\n",
    "    sns.heatmap(df.isna(), cbar=False, yticklabels=False)\n",
    "    "
   ]
  },
  {
   "cell_type": "markdown",
   "metadata": {},
   "source": [
    "#### Convert -1 To NA\n",
    "    We can see that -1 is used instead of NA"
   ]
  },
  {
   "cell_type": "code",
   "execution_count": 110,
   "metadata": {},
   "outputs": [],
   "source": [
    "for i in [\"-1\", float(-1), -1, 'Unknown', 'Unknown / Non-Applicable']:\n",
    "    df.replace(i, np.nan, inplace=True)"
   ]
  },
  {
   "cell_type": "markdown",
   "metadata": {},
   "source": [
    "#### Count of NA"
   ]
  },
  {
   "cell_type": "code",
   "execution_count": 111,
   "metadata": {},
   "outputs": [
    {
     "data": {
      "text/plain": [
       "Job Title               0\n",
       "Salary Estimate         1\n",
       "Job Description         0\n",
       "Rating                272\n",
       "Company Name            1\n",
       "Location                0\n",
       "Headquarters          172\n",
       "Size                  205\n",
       "Founded               660\n",
       "Type of ownership     179\n",
       "Industry              353\n",
       "Sector                353\n",
       "Revenue               778\n",
       "Competitors          1732\n",
       "Easy Apply           2173\n",
       "dtype: int64"
      ]
     },
     "execution_count": 111,
     "metadata": {},
     "output_type": "execute_result"
    }
   ],
   "source": [
    "num_of_na(df)"
   ]
  },
  {
   "cell_type": "markdown",
   "metadata": {},
   "source": [
    "#### Percentage of NA again"
   ]
  },
  {
   "cell_type": "code",
   "execution_count": 112,
   "metadata": {},
   "outputs": [
    {
     "name": "stdout",
     "output_type": "stream",
     "text": [
      "Job Title: 0.000%\n",
      "Salary Estimate: 0.044%\n",
      "Job Description: 0.000%\n",
      "Rating: 12.073%\n",
      "Company Name: 0.044%\n",
      "Location: 0.000%\n",
      "Headquarters: 7.634%\n",
      "Size: 9.099%\n",
      "Founded: 29.294%\n",
      "Type of ownership: 7.945%\n",
      "Industry: 15.668%\n",
      "Sector: 15.668%\n",
      "Revenue: 34.532%\n",
      "Competitors: 76.875%\n",
      "Easy Apply: 96.449%\n"
     ]
    }
   ],
   "source": [
    "percent_na(df)"
   ]
  },
  {
   "cell_type": "markdown",
   "metadata": {},
   "source": [
    "#### HeatMap to check for Relation between NA"
   ]
  },
  {
   "cell_type": "code",
   "execution_count": 113,
   "metadata": {},
   "outputs": [
    {
     "data": {
      "image/png": "[encoded data removed]",
      "text/plain": [
       "<Figure size 1152x576 with 1 Axes>"
      ]
     },
     "metadata": {
      "needs_background": "light"
     },
     "output_type": "display_data"
    }
   ],
   "source": [
    "heatmap_check_na(df)"
   ]
  },
  {
   "cell_type": "markdown",
   "metadata": {},
   "source": [
    "## Check other Information related to Dataset"
   ]
  },
  {
   "cell_type": "markdown",
   "metadata": {},
   "source": [
    "#### Info"
   ]
  },
  {
   "cell_type": "code",
   "execution_count": 114,
   "metadata": {},
   "outputs": [
    {
     "name": "stdout",
     "output_type": "stream",
     "text": [
      "<class 'pandas.core.frame.DataFrame'>\n",
      "RangeIndex: 2253 entries, 0 to 2252\n",
      "Data columns (total 15 columns):\n",
      " #   Column             Non-Null Count  Dtype  \n",
      "---  ------             --------------  -----  \n",
      " 0   Job Title          2253 non-null   object \n",
      " 1   Salary Estimate    2252 non-null   object \n",
      " 2   Job Description    2253 non-null   object \n",
      " 3   Rating             1981 non-null   float64\n",
      " 4   Company Name       2252 non-null   object \n",
      " 5   Location           2253 non-null   object \n",
      " 6   Headquarters       2081 non-null   object \n",
      " 7   Size               2048 non-null   object \n",
      " 8   Founded            1593 non-null   float64\n",
      " 9   Type of ownership  2074 non-null   object \n",
      " 10  Industry           1900 non-null   object \n",
      " 11  Sector             1900 non-null   object \n",
      " 12  Revenue            1475 non-null   object \n",
      " 13  Competitors        521 non-null    object \n",
      " 14  Easy Apply         80 non-null     object \n",
      "dtypes: float64(2), object(13)\n",
      "memory usage: 264.1+ KB\n"
     ]
    }
   ],
   "source": [
    "df.info()"
   ]
  },
  {
   "cell_type": "markdown",
   "metadata": {},
   "source": [
    "#### Describe"
   ]
  },
  {
   "cell_type": "code",
   "execution_count": 115,
   "metadata": {},
   "outputs": [
    {
     "data": {
      "text/html": [
       "<div>\n",
       "<style scoped>\n",
       "    .dataframe tbody tr th:only-of-type {\n",
       "        vertical-align: middle;\n",
       "    }\n",
       "\n",
       "    .dataframe tbody tr th {\n",
       "        vertical-align: top;\n",
       "    }\n",
       "\n",
       "    .dataframe thead th {\n",
       "        text-align: right;\n",
       "    }\n",
       "</style>\n",
       "<table border=\"1\" class=\"dataframe\">\n",
       "  <thead>\n",
       "    <tr style=\"text-align: right;\">\n",
       "      <th></th>\n",
       "      <th>Job Title</th>\n",
       "      <th>Salary Estimate</th>\n",
       "      <th>Job Description</th>\n",
       "      <th>Rating</th>\n",
       "      <th>Company Name</th>\n",
       "      <th>Location</th>\n",
       "      <th>Headquarters</th>\n",
       "      <th>Size</th>\n",
       "      <th>Founded</th>\n",
       "      <th>Type of ownership</th>\n",
       "      <th>Industry</th>\n",
       "      <th>Sector</th>\n",
       "      <th>Revenue</th>\n",
       "      <th>Competitors</th>\n",
       "      <th>Easy Apply</th>\n",
       "    </tr>\n",
       "  </thead>\n",
       "  <tbody>\n",
       "    <tr>\n",
       "      <th>count</th>\n",
       "      <td>2253</td>\n",
       "      <td>2252</td>\n",
       "      <td>2253</td>\n",
       "      <td>1981.000000</td>\n",
       "      <td>2252</td>\n",
       "      <td>2253</td>\n",
       "      <td>2081</td>\n",
       "      <td>2048</td>\n",
       "      <td>1593.000000</td>\n",
       "      <td>2074</td>\n",
       "      <td>1900</td>\n",
       "      <td>1900</td>\n",
       "      <td>1475</td>\n",
       "      <td>521</td>\n",
       "      <td>80</td>\n",
       "    </tr>\n",
       "    <tr>\n",
       "      <th>unique</th>\n",
       "      <td>1272</td>\n",
       "      <td>89</td>\n",
       "      <td>2253</td>\n",
       "      <td>NaN</td>\n",
       "      <td>1513</td>\n",
       "      <td>253</td>\n",
       "      <td>482</td>\n",
       "      <td>7</td>\n",
       "      <td>NaN</td>\n",
       "      <td>13</td>\n",
       "      <td>88</td>\n",
       "      <td>24</td>\n",
       "      <td>12</td>\n",
       "      <td>290</td>\n",
       "      <td>1</td>\n",
       "    </tr>\n",
       "    <tr>\n",
       "      <th>top</th>\n",
       "      <td>Data Analyst</td>\n",
       "      <td>$41K-$78K (Glassdoor est.)</td>\n",
       "      <td>At Vida, our mission is to eradicate chronic d...</td>\n",
       "      <td>NaN</td>\n",
       "      <td>Staffigo Technical Services, LLC\\n5.0</td>\n",
       "      <td>New York, NY</td>\n",
       "      <td>New York, NY</td>\n",
       "      <td>51 to 200 employees</td>\n",
       "      <td>NaN</td>\n",
       "      <td>Company - Private</td>\n",
       "      <td>IT Services</td>\n",
       "      <td>Information Technology</td>\n",
       "      <td>$100 to $500 million (USD)</td>\n",
       "      <td>Adecco, Manpower</td>\n",
       "      <td>True</td>\n",
       "    </tr>\n",
       "    <tr>\n",
       "      <th>freq</th>\n",
       "      <td>405</td>\n",
       "      <td>57</td>\n",
       "      <td>1</td>\n",
       "      <td>NaN</td>\n",
       "      <td>58</td>\n",
       "      <td>310</td>\n",
       "      <td>206</td>\n",
       "      <td>421</td>\n",
       "      <td>NaN</td>\n",
       "      <td>1273</td>\n",
       "      <td>325</td>\n",
       "      <td>570</td>\n",
       "      <td>218</td>\n",
       "      <td>14</td>\n",
       "      <td>80</td>\n",
       "    </tr>\n",
       "    <tr>\n",
       "      <th>mean</th>\n",
       "      <td>NaN</td>\n",
       "      <td>NaN</td>\n",
       "      <td>NaN</td>\n",
       "      <td>3.731903</td>\n",
       "      <td>NaN</td>\n",
       "      <td>NaN</td>\n",
       "      <td>NaN</td>\n",
       "      <td>NaN</td>\n",
       "      <td>1978.362837</td>\n",
       "      <td>NaN</td>\n",
       "      <td>NaN</td>\n",
       "      <td>NaN</td>\n",
       "      <td>NaN</td>\n",
       "      <td>NaN</td>\n",
       "      <td>NaN</td>\n",
       "    </tr>\n",
       "    <tr>\n",
       "      <th>std</th>\n",
       "      <td>NaN</td>\n",
       "      <td>NaN</td>\n",
       "      <td>NaN</td>\n",
       "      <td>0.670332</td>\n",
       "      <td>NaN</td>\n",
       "      <td>NaN</td>\n",
       "      <td>NaN</td>\n",
       "      <td>NaN</td>\n",
       "      <td>47.822289</td>\n",
       "      <td>NaN</td>\n",
       "      <td>NaN</td>\n",
       "      <td>NaN</td>\n",
       "      <td>NaN</td>\n",
       "      <td>NaN</td>\n",
       "      <td>NaN</td>\n",
       "    </tr>\n",
       "    <tr>\n",
       "      <th>min</th>\n",
       "      <td>NaN</td>\n",
       "      <td>NaN</td>\n",
       "      <td>NaN</td>\n",
       "      <td>1.000000</td>\n",
       "      <td>NaN</td>\n",
       "      <td>NaN</td>\n",
       "      <td>NaN</td>\n",
       "      <td>NaN</td>\n",
       "      <td>1682.000000</td>\n",
       "      <td>NaN</td>\n",
       "      <td>NaN</td>\n",
       "      <td>NaN</td>\n",
       "      <td>NaN</td>\n",
       "      <td>NaN</td>\n",
       "      <td>NaN</td>\n",
       "    </tr>\n",
       "    <tr>\n",
       "      <th>25%</th>\n",
       "      <td>NaN</td>\n",
       "      <td>NaN</td>\n",
       "      <td>NaN</td>\n",
       "      <td>3.300000</td>\n",
       "      <td>NaN</td>\n",
       "      <td>NaN</td>\n",
       "      <td>NaN</td>\n",
       "      <td>NaN</td>\n",
       "      <td>1970.000000</td>\n",
       "      <td>NaN</td>\n",
       "      <td>NaN</td>\n",
       "      <td>NaN</td>\n",
       "      <td>NaN</td>\n",
       "      <td>NaN</td>\n",
       "      <td>NaN</td>\n",
       "    </tr>\n",
       "    <tr>\n",
       "      <th>50%</th>\n",
       "      <td>NaN</td>\n",
       "      <td>NaN</td>\n",
       "      <td>NaN</td>\n",
       "      <td>3.700000</td>\n",
       "      <td>NaN</td>\n",
       "      <td>NaN</td>\n",
       "      <td>NaN</td>\n",
       "      <td>NaN</td>\n",
       "      <td>1997.000000</td>\n",
       "      <td>NaN</td>\n",
       "      <td>NaN</td>\n",
       "      <td>NaN</td>\n",
       "      <td>NaN</td>\n",
       "      <td>NaN</td>\n",
       "      <td>NaN</td>\n",
       "    </tr>\n",
       "    <tr>\n",
       "      <th>75%</th>\n",
       "      <td>NaN</td>\n",
       "      <td>NaN</td>\n",
       "      <td>NaN</td>\n",
       "      <td>4.100000</td>\n",
       "      <td>NaN</td>\n",
       "      <td>NaN</td>\n",
       "      <td>NaN</td>\n",
       "      <td>NaN</td>\n",
       "      <td>2006.000000</td>\n",
       "      <td>NaN</td>\n",
       "      <td>NaN</td>\n",
       "      <td>NaN</td>\n",
       "      <td>NaN</td>\n",
       "      <td>NaN</td>\n",
       "      <td>NaN</td>\n",
       "    </tr>\n",
       "    <tr>\n",
       "      <th>max</th>\n",
       "      <td>NaN</td>\n",
       "      <td>NaN</td>\n",
       "      <td>NaN</td>\n",
       "      <td>5.000000</td>\n",
       "      <td>NaN</td>\n",
       "      <td>NaN</td>\n",
       "      <td>NaN</td>\n",
       "      <td>NaN</td>\n",
       "      <td>2019.000000</td>\n",
       "      <td>NaN</td>\n",
       "      <td>NaN</td>\n",
       "      <td>NaN</td>\n",
       "      <td>NaN</td>\n",
       "      <td>NaN</td>\n",
       "      <td>NaN</td>\n",
       "    </tr>\n",
       "  </tbody>\n",
       "</table>\n",
       "</div>"
      ],
      "text/plain": [
       "           Job Title             Salary Estimate  \\\n",
       "count           2253                        2252   \n",
       "unique          1272                          89   \n",
       "top     Data Analyst  $41K-$78K (Glassdoor est.)   \n",
       "freq             405                          57   \n",
       "mean             NaN                         NaN   \n",
       "std              NaN                         NaN   \n",
       "min              NaN                         NaN   \n",
       "25%              NaN                         NaN   \n",
       "50%              NaN                         NaN   \n",
       "75%              NaN                         NaN   \n",
       "max              NaN                         NaN   \n",
       "\n",
       "                                          Job Description       Rating  \\\n",
       "count                                                2253  1981.000000   \n",
       "unique                                               2253          NaN   \n",
       "top     At Vida, our mission is to eradicate chronic d...          NaN   \n",
       "freq                                                    1          NaN   \n",
       "mean                                                  NaN     3.731903   \n",
       "std                                                   NaN     0.670332   \n",
       "min                                                   NaN     1.000000   \n",
       "25%                                                   NaN     3.300000   \n",
       "50%                                                   NaN     3.700000   \n",
       "75%                                                   NaN     4.100000   \n",
       "max                                                   NaN     5.000000   \n",
       "\n",
       "                                 Company Name      Location  Headquarters  \\\n",
       "count                                    2252          2253          2081   \n",
       "unique                                   1513           253           482   \n",
       "top     Staffigo Technical Services, LLC\\n5.0  New York, NY  New York, NY   \n",
       "freq                                       58           310           206   \n",
       "mean                                      NaN           NaN           NaN   \n",
       "std                                       NaN           NaN           NaN   \n",
       "min                                       NaN           NaN           NaN   \n",
       "25%                                       NaN           NaN           NaN   \n",
       "50%                                       NaN           NaN           NaN   \n",
       "75%                                       NaN           NaN           NaN   \n",
       "max                                       NaN           NaN           NaN   \n",
       "\n",
       "                       Size      Founded  Type of ownership     Industry  \\\n",
       "count                  2048  1593.000000               2074         1900   \n",
       "unique                    7          NaN                 13           88   \n",
       "top     51 to 200 employees          NaN  Company - Private  IT Services   \n",
       "freq                    421          NaN               1273          325   \n",
       "mean                    NaN  1978.362837                NaN          NaN   \n",
       "std                     NaN    47.822289                NaN          NaN   \n",
       "min                     NaN  1682.000000                NaN          NaN   \n",
       "25%                     NaN  1970.000000                NaN          NaN   \n",
       "50%                     NaN  1997.000000                NaN          NaN   \n",
       "75%                     NaN  2006.000000                NaN          NaN   \n",
       "max                     NaN  2019.000000                NaN          NaN   \n",
       "\n",
       "                        Sector                     Revenue       Competitors  \\\n",
       "count                     1900                        1475               521   \n",
       "unique                      24                          12               290   \n",
       "top     Information Technology  $100 to $500 million (USD)  Adecco, Manpower   \n",
       "freq                       570                         218                14   \n",
       "mean                       NaN                         NaN               NaN   \n",
       "std                        NaN                         NaN               NaN   \n",
       "min                        NaN                         NaN               NaN   \n",
       "25%                        NaN                         NaN               NaN   \n",
       "50%                        NaN                         NaN               NaN   \n",
       "75%                        NaN                         NaN               NaN   \n",
       "max                        NaN                         NaN               NaN   \n",
       "\n",
       "       Easy Apply  \n",
       "count          80  \n",
       "unique          1  \n",
       "top          True  \n",
       "freq           80  \n",
       "mean          NaN  \n",
       "std           NaN  \n",
       "min           NaN  \n",
       "25%           NaN  \n",
       "50%           NaN  \n",
       "75%           NaN  \n",
       "max           NaN  "
      ]
     },
     "execution_count": 115,
     "metadata": {},
     "output_type": "execute_result"
    }
   ],
   "source": [
    "df.describe(include='all')"
   ]
  },
  {
   "cell_type": "markdown",
   "metadata": {},
   "source": [
    "## Salary Column"
   ]
  },
  {
   "cell_type": "markdown",
   "metadata": {},
   "source": [
    "### Check Salary Estimate which is NaN"
   ]
  },
  {
   "cell_type": "code",
   "execution_count": 116,
   "metadata": {},
   "outputs": [
    {
     "data": {
      "text/html": [
       "<div>\n",
       "<style scoped>\n",
       "    .dataframe tbody tr th:only-of-type {\n",
       "        vertical-align: middle;\n",
       "    }\n",
       "\n",
       "    .dataframe tbody tr th {\n",
       "        vertical-align: top;\n",
       "    }\n",
       "\n",
       "    .dataframe thead th {\n",
       "        text-align: right;\n",
       "    }\n",
       "</style>\n",
       "<table border=\"1\" class=\"dataframe\">\n",
       "  <thead>\n",
       "    <tr style=\"text-align: right;\">\n",
       "      <th></th>\n",
       "      <th>Job Title</th>\n",
       "      <th>Salary Estimate</th>\n",
       "      <th>Job Description</th>\n",
       "      <th>Rating</th>\n",
       "      <th>Company Name</th>\n",
       "      <th>Location</th>\n",
       "      <th>Headquarters</th>\n",
       "      <th>Size</th>\n",
       "      <th>Founded</th>\n",
       "      <th>Type of ownership</th>\n",
       "      <th>Industry</th>\n",
       "      <th>Sector</th>\n",
       "      <th>Revenue</th>\n",
       "      <th>Competitors</th>\n",
       "      <th>Easy Apply</th>\n",
       "    </tr>\n",
       "  </thead>\n",
       "  <tbody>\n",
       "    <tr>\n",
       "      <th>2149</th>\n",
       "      <td>Configuration/Data Management Analyst III</td>\n",
       "      <td>NaN</td>\n",
       "      <td>Job Description\\nPosition Title: Configuration...</td>\n",
       "      <td>4.4</td>\n",
       "      <td>Protingent\\n4.4</td>\n",
       "      <td>Kent, WA</td>\n",
       "      <td>Bellevue, WA</td>\n",
       "      <td>51 to 200 employees</td>\n",
       "      <td>2001.0</td>\n",
       "      <td>Company - Private</td>\n",
       "      <td>Staffing &amp; Outsourcing</td>\n",
       "      <td>Business Services</td>\n",
       "      <td>$25 to $50 million (USD)</td>\n",
       "      <td>NaN</td>\n",
       "      <td>NaN</td>\n",
       "    </tr>\n",
       "  </tbody>\n",
       "</table>\n",
       "</div>"
      ],
      "text/plain": [
       "                                      Job Title Salary Estimate  \\\n",
       "2149  Configuration/Data Management Analyst III             NaN   \n",
       "\n",
       "                                        Job Description  Rating  \\\n",
       "2149  Job Description\\nPosition Title: Configuration...     4.4   \n",
       "\n",
       "         Company Name  Location  Headquarters                 Size  Founded  \\\n",
       "2149  Protingent\\n4.4  Kent, WA  Bellevue, WA  51 to 200 employees   2001.0   \n",
       "\n",
       "      Type of ownership                Industry             Sector  \\\n",
       "2149  Company - Private  Staffing & Outsourcing  Business Services   \n",
       "\n",
       "                       Revenue Competitors Easy Apply  \n",
       "2149  $25 to $50 million (USD)         NaN        NaN  "
      ]
     },
     "execution_count": 116,
     "metadata": {},
     "output_type": "execute_result"
    }
   ],
   "source": [
    "df[df['Salary Estimate'].isna()]"
   ]
  },
  {
   "cell_type": "code",
   "execution_count": 117,
   "metadata": {},
   "outputs": [
    {
     "data": {
      "text/plain": [
       "0    $41K-$78K (Glassdoor est.)\n",
       "1    $42K-$76K (Glassdoor est.)\n",
       "dtype: object"
      ]
     },
     "execution_count": 117,
     "metadata": {},
     "output_type": "execute_result"
    }
   ],
   "source": [
    "df['Salary Estimate'].mode()"
   ]
  },
  {
   "cell_type": "code",
   "execution_count": 118,
   "metadata": {},
   "outputs": [
    {
     "data": {
      "text/plain": [
       "count                           2252\n",
       "unique                            89\n",
       "top       $41K-$78K (Glassdoor est.)\n",
       "freq                              57\n",
       "Name: Salary Estimate, dtype: object"
      ]
     },
     "execution_count": 118,
     "metadata": {},
     "output_type": "execute_result"
    }
   ],
   "source": [
    "df['Salary Estimate'].describe()"
   ]
  },
  {
   "cell_type": "markdown",
   "metadata": {},
   "source": [
    "##### Catagorical variable with only one missing value\n",
    "    Fill it with mode, i.e. $42K - $76K"
   ]
  },
  {
   "cell_type": "code",
   "execution_count": 119,
   "metadata": {},
   "outputs": [],
   "source": [
    "salary_mode = df['Salary Estimate'].mode()[1]\n",
    "df['Salary Estimate'].fillna(salary_mode, inplace=True)"
   ]
  },
  {
   "cell_type": "code",
   "execution_count": 120,
   "metadata": {},
   "outputs": [
    {
     "data": {
      "text/plain": [
       "0"
      ]
     },
     "execution_count": 120,
     "metadata": {},
     "output_type": "execute_result"
    }
   ],
   "source": [
    "num_of_na(df['Salary Estimate'])"
   ]
  },
  {
   "cell_type": "markdown",
   "metadata": {},
   "source": [
    "### Check Salary Column"
   ]
  },
  {
   "cell_type": "code",
   "execution_count": 121,
   "metadata": {},
   "outputs": [
    {
     "data": {
      "text/html": [
       "<div>\n",
       "<style scoped>\n",
       "    .dataframe tbody tr th:only-of-type {\n",
       "        vertical-align: middle;\n",
       "    }\n",
       "\n",
       "    .dataframe tbody tr th {\n",
       "        vertical-align: top;\n",
       "    }\n",
       "\n",
       "    .dataframe thead th {\n",
       "        text-align: right;\n",
       "    }\n",
       "</style>\n",
       "<table border=\"1\" class=\"dataframe\">\n",
       "  <thead>\n",
       "    <tr style=\"text-align: right;\">\n",
       "      <th></th>\n",
       "      <th>Job Title</th>\n",
       "      <th>Salary Estimate</th>\n",
       "      <th>Job Description</th>\n",
       "      <th>Rating</th>\n",
       "      <th>Company Name</th>\n",
       "      <th>Location</th>\n",
       "      <th>Headquarters</th>\n",
       "      <th>Size</th>\n",
       "      <th>Founded</th>\n",
       "      <th>Type of ownership</th>\n",
       "      <th>Industry</th>\n",
       "      <th>Sector</th>\n",
       "      <th>Revenue</th>\n",
       "      <th>Competitors</th>\n",
       "      <th>Easy Apply</th>\n",
       "    </tr>\n",
       "  </thead>\n",
       "  <tbody>\n",
       "    <tr>\n",
       "      <th>0</th>\n",
       "      <td>Data Analyst, Center on Immigration and Justic...</td>\n",
       "      <td>$37K-$66K (Glassdoor est.)</td>\n",
       "      <td>Are you eager to roll up your sleeves and harn...</td>\n",
       "      <td>3.2</td>\n",
       "      <td>Vera Institute of Justice\\n3.2</td>\n",
       "      <td>New York, NY</td>\n",
       "      <td>New York, NY</td>\n",
       "      <td>201 to 500 employees</td>\n",
       "      <td>1961.0</td>\n",
       "      <td>Nonprofit Organization</td>\n",
       "      <td>Social Assistance</td>\n",
       "      <td>Non-Profit</td>\n",
       "      <td>$100 to $500 million (USD)</td>\n",
       "      <td>NaN</td>\n",
       "      <td>True</td>\n",
       "    </tr>\n",
       "    <tr>\n",
       "      <th>1</th>\n",
       "      <td>Quality Data Analyst</td>\n",
       "      <td>$37K-$66K (Glassdoor est.)</td>\n",
       "      <td>Overview\\n\\nProvides analytical and technical ...</td>\n",
       "      <td>3.8</td>\n",
       "      <td>Visiting Nurse Service of New York\\n3.8</td>\n",
       "      <td>New York, NY</td>\n",
       "      <td>New York, NY</td>\n",
       "      <td>10000+ employees</td>\n",
       "      <td>1893.0</td>\n",
       "      <td>Nonprofit Organization</td>\n",
       "      <td>Health Care Services &amp; Hospitals</td>\n",
       "      <td>Health Care</td>\n",
       "      <td>$2 to $5 billion (USD)</td>\n",
       "      <td>NaN</td>\n",
       "      <td>NaN</td>\n",
       "    </tr>\n",
       "  </tbody>\n",
       "</table>\n",
       "</div>"
      ],
      "text/plain": [
       "                                           Job Title  \\\n",
       "0  Data Analyst, Center on Immigration and Justic...   \n",
       "1                               Quality Data Analyst   \n",
       "\n",
       "              Salary Estimate  \\\n",
       "0  $37K-$66K (Glassdoor est.)   \n",
       "1  $37K-$66K (Glassdoor est.)   \n",
       "\n",
       "                                     Job Description  Rating  \\\n",
       "0  Are you eager to roll up your sleeves and harn...     3.2   \n",
       "1  Overview\\n\\nProvides analytical and technical ...     3.8   \n",
       "\n",
       "                              Company Name      Location  Headquarters  \\\n",
       "0           Vera Institute of Justice\\n3.2  New York, NY  New York, NY   \n",
       "1  Visiting Nurse Service of New York\\n3.8  New York, NY  New York, NY   \n",
       "\n",
       "                   Size  Founded       Type of ownership  \\\n",
       "0  201 to 500 employees   1961.0  Nonprofit Organization   \n",
       "1      10000+ employees   1893.0  Nonprofit Organization   \n",
       "\n",
       "                           Industry       Sector                     Revenue  \\\n",
       "0                 Social Assistance   Non-Profit  $100 to $500 million (USD)   \n",
       "1  Health Care Services & Hospitals  Health Care      $2 to $5 billion (USD)   \n",
       "\n",
       "  Competitors Easy Apply  \n",
       "0         NaN       True  \n",
       "1         NaN        NaN  "
      ]
     },
     "execution_count": 121,
     "metadata": {},
     "output_type": "execute_result"
    }
   ],
   "source": [
    "df.head(2)"
   ]
  },
  {
   "cell_type": "markdown",
   "metadata": {},
   "source": [
    "##### Converting String into Integer in either one of the two ways\n",
    "    1. Low and High Salary Columns\n",
    "    2. Average of Low and High Salary"
   ]
  },
  {
   "cell_type": "markdown",
   "metadata": {},
   "source": [
    "##### 1. Low And High Salary Columns\n",
    "    Uncomment to use this (To Ensure It doesn't run by mistake)"
   ]
  },
  {
   "cell_type": "code",
   "execution_count": 122,
   "metadata": {},
   "outputs": [],
   "source": [
    "def low_high(l_h):\n",
    "    if l_h == 'l':\n",
    "        df['min_Salary'] = df['Salary Estimate'].apply(lambda x : int(x.split(\"-\")[0][1:-1])*1000)\n",
    "    if l_h == 'h':\n",
    "        df['max_Salary'] = df['Salary Estimate'].apply(lambda x : int(x.split()[0].split(\"-\")[1][1:-1])*1000)\n",
    "low_high('l')\n",
    "low_high('h')\n",
    "# df.drop('Salary Estimate', axis=1, inplace=True)"
   ]
  },
  {
   "cell_type": "markdown",
   "metadata": {},
   "source": [
    "##### 2. Avg. of Low and High\n",
    "    Uncomment to use this (To Ensure It doesn't run by mistake)"
   ]
  },
  {
   "cell_type": "code",
   "execution_count": 123,
   "metadata": {},
   "outputs": [],
   "source": [
    "def convert_range(x):\n",
    "    x = (x.split()[0]).split(\"-\")\n",
    "    return (int(x[0][1:-1]) + int(x[1][1:-1]))*1000/2\n",
    "df['Salary Estimate'] = df['Salary Estimate'].apply(convert_range)"
   ]
  },
  {
   "cell_type": "markdown",
   "metadata": {},
   "source": [
    "#### Check Any Other Work needs to be done on Salary Column"
   ]
  },
  {
   "cell_type": "code",
   "execution_count": 124,
   "metadata": {},
   "outputs": [
    {
     "data": {
      "text/plain": [
       "0"
      ]
     },
     "execution_count": 124,
     "metadata": {},
     "output_type": "execute_result"
    }
   ],
   "source": [
    "num_of_na(df['Salary Estimate'])"
   ]
  },
  {
   "cell_type": "code",
   "execution_count": 125,
   "metadata": {},
   "outputs": [
    {
     "name": "stdout",
     "output_type": "stream",
     "text": [
      "Job Title: 0.000%\n",
      "Salary Estimate: 0.000%\n",
      "Job Description: 0.000%\n",
      "Rating: 12.073%\n",
      "Company Name: 0.044%\n",
      "Location: 0.000%\n",
      "Headquarters: 7.634%\n",
      "Size: 9.099%\n",
      "Founded: 29.294%\n",
      "Type of ownership: 7.945%\n",
      "Industry: 15.668%\n",
      "Sector: 15.668%\n",
      "Revenue: 34.532%\n",
      "Competitors: 76.875%\n",
      "Easy Apply: 96.449%\n",
      "min_Salary: 0.000%\n",
      "max_Salary: 0.000%\n"
     ]
    }
   ],
   "source": [
    "percent_na(df)"
   ]
  },
  {
   "cell_type": "code",
   "execution_count": 126,
   "metadata": {},
   "outputs": [
    {
     "data": {
      "text/plain": [
       "count      2253.000000\n",
       "mean      54261.429206\n",
       "std       19572.734259\n",
       "min       24000.000000\n",
       "25%       41000.000000\n",
       "50%       50000.000000\n",
       "75%       64000.000000\n",
       "max      113000.000000\n",
       "Name: min_Salary, dtype: float64"
      ]
     },
     "execution_count": 126,
     "metadata": {},
     "output_type": "execute_result"
    }
   ],
   "source": [
    "df['min_Salary'].describe()"
   ]
  },
  {
   "cell_type": "code",
   "execution_count": 127,
   "metadata": {},
   "outputs": [
    {
     "data": {
      "text/plain": [
       "count      2253.000000\n",
       "mean      89972.924989\n",
       "std       29310.575481\n",
       "min       38000.000000\n",
       "25%       70000.000000\n",
       "50%       87000.000000\n",
       "75%      104000.000000\n",
       "max      190000.000000\n",
       "Name: max_Salary, dtype: float64"
      ]
     },
     "execution_count": 127,
     "metadata": {},
     "output_type": "execute_result"
    }
   ],
   "source": [
    "df['max_Salary'].describe()"
   ]
  },
  {
   "cell_type": "code",
   "execution_count": 128,
   "metadata": {},
   "outputs": [
    {
     "data": {
      "text/plain": [
       "count      2253.000000\n",
       "mean      72117.177097\n",
       "std       23597.112985\n",
       "min       33500.000000\n",
       "25%       58000.000000\n",
       "50%       69000.000000\n",
       "75%       80500.000000\n",
       "max      150000.000000\n",
       "Name: Salary Estimate, dtype: float64"
      ]
     },
     "execution_count": 128,
     "metadata": {},
     "output_type": "execute_result"
    }
   ],
   "source": [
    "df['Salary Estimate'].describe()"
   ]
  },
  {
   "cell_type": "markdown",
   "metadata": {},
   "source": [
    "##### No More Work Needed in this Column"
   ]
  },
  {
   "cell_type": "markdown",
   "metadata": {},
   "source": [
    "## Company Name"
   ]
  },
  {
   "cell_type": "markdown",
   "metadata": {},
   "source": [
    "### Check Company Name which is NaN"
   ]
  },
  {
   "cell_type": "code",
   "execution_count": 129,
   "metadata": {},
   "outputs": [
    {
     "data": {
      "text/html": [
       "<div>\n",
       "<style scoped>\n",
       "    .dataframe tbody tr th:only-of-type {\n",
       "        vertical-align: middle;\n",
       "    }\n",
       "\n",
       "    .dataframe tbody tr th {\n",
       "        vertical-align: top;\n",
       "    }\n",
       "\n",
       "    .dataframe thead th {\n",
       "        text-align: right;\n",
       "    }\n",
       "</style>\n",
       "<table border=\"1\" class=\"dataframe\">\n",
       "  <thead>\n",
       "    <tr style=\"text-align: right;\">\n",
       "      <th></th>\n",
       "      <th>Job Title</th>\n",
       "      <th>Salary Estimate</th>\n",
       "      <th>Job Description</th>\n",
       "      <th>Rating</th>\n",
       "      <th>Company Name</th>\n",
       "      <th>Location</th>\n",
       "      <th>Headquarters</th>\n",
       "      <th>Size</th>\n",
       "      <th>Founded</th>\n",
       "      <th>Type of ownership</th>\n",
       "      <th>Industry</th>\n",
       "      <th>Sector</th>\n",
       "      <th>Revenue</th>\n",
       "      <th>Competitors</th>\n",
       "      <th>Easy Apply</th>\n",
       "      <th>min_Salary</th>\n",
       "      <th>max_Salary</th>\n",
       "    </tr>\n",
       "  </thead>\n",
       "  <tbody>\n",
       "    <tr>\n",
       "      <th>1860</th>\n",
       "      <td>Data Analyst</td>\n",
       "      <td>76000.0</td>\n",
       "      <td>Kindred at Home, part of the Kindred at Home f...</td>\n",
       "      <td>NaN</td>\n",
       "      <td>NaN</td>\n",
       "      <td>Mooresville, NC</td>\n",
       "      <td>NaN</td>\n",
       "      <td>NaN</td>\n",
       "      <td>NaN</td>\n",
       "      <td>NaN</td>\n",
       "      <td>NaN</td>\n",
       "      <td>NaN</td>\n",
       "      <td>NaN</td>\n",
       "      <td>NaN</td>\n",
       "      <td>NaN</td>\n",
       "      <td>53000</td>\n",
       "      <td>99000</td>\n",
       "    </tr>\n",
       "  </tbody>\n",
       "</table>\n",
       "</div>"
      ],
      "text/plain": [
       "         Job Title  Salary Estimate  \\\n",
       "1860  Data Analyst          76000.0   \n",
       "\n",
       "                                        Job Description  Rating Company Name  \\\n",
       "1860  Kindred at Home, part of the Kindred at Home f...     NaN          NaN   \n",
       "\n",
       "             Location Headquarters Size  Founded Type of ownership Industry  \\\n",
       "1860  Mooresville, NC          NaN  NaN      NaN               NaN      NaN   \n",
       "\n",
       "     Sector Revenue Competitors Easy Apply  min_Salary  max_Salary  \n",
       "1860    NaN     NaN         NaN        NaN       53000       99000  "
      ]
     },
     "execution_count": 129,
     "metadata": {},
     "output_type": "execute_result"
    }
   ],
   "source": [
    "df[df['Company Name'].isna()]"
   ]
  },
  {
   "cell_type": "markdown",
   "metadata": {},
   "source": [
    "#### Maximum Columns are missing; Company Name cannot be figured\n",
    "    Drop this row"
   ]
  },
  {
   "cell_type": "code",
   "execution_count": 130,
   "metadata": {},
   "outputs": [],
   "source": [
    "# df['Company Name'].dropna(inplace=True)\n",
    "df.drop(1860, inplace=True)"
   ]
  },
  {
   "cell_type": "code",
   "execution_count": 131,
   "metadata": {},
   "outputs": [
    {
     "data": {
      "text/plain": [
       "0"
      ]
     },
     "execution_count": 131,
     "metadata": {},
     "output_type": "execute_result"
    }
   ],
   "source": [
    "num_of_na(df['Company Name'])"
   ]
  },
  {
   "cell_type": "markdown",
   "metadata": {},
   "source": [
    "### Check Company Column"
   ]
  },
  {
   "cell_type": "code",
   "execution_count": 132,
   "metadata": {},
   "outputs": [
    {
     "data": {
      "text/html": [
       "<div>\n",
       "<style scoped>\n",
       "    .dataframe tbody tr th:only-of-type {\n",
       "        vertical-align: middle;\n",
       "    }\n",
       "\n",
       "    .dataframe tbody tr th {\n",
       "        vertical-align: top;\n",
       "    }\n",
       "\n",
       "    .dataframe thead th {\n",
       "        text-align: right;\n",
       "    }\n",
       "</style>\n",
       "<table border=\"1\" class=\"dataframe\">\n",
       "  <thead>\n",
       "    <tr style=\"text-align: right;\">\n",
       "      <th></th>\n",
       "      <th>Job Title</th>\n",
       "      <th>Salary Estimate</th>\n",
       "      <th>Job Description</th>\n",
       "      <th>Rating</th>\n",
       "      <th>Company Name</th>\n",
       "      <th>Location</th>\n",
       "      <th>Headquarters</th>\n",
       "      <th>Size</th>\n",
       "      <th>Founded</th>\n",
       "      <th>Type of ownership</th>\n",
       "      <th>Industry</th>\n",
       "      <th>Sector</th>\n",
       "      <th>Revenue</th>\n",
       "      <th>Competitors</th>\n",
       "      <th>Easy Apply</th>\n",
       "      <th>min_Salary</th>\n",
       "      <th>max_Salary</th>\n",
       "    </tr>\n",
       "  </thead>\n",
       "  <tbody>\n",
       "    <tr>\n",
       "      <th>0</th>\n",
       "      <td>Data Analyst, Center on Immigration and Justic...</td>\n",
       "      <td>51500.0</td>\n",
       "      <td>Are you eager to roll up your sleeves and harn...</td>\n",
       "      <td>3.2</td>\n",
       "      <td>Vera Institute of Justice\\n3.2</td>\n",
       "      <td>New York, NY</td>\n",
       "      <td>New York, NY</td>\n",
       "      <td>201 to 500 employees</td>\n",
       "      <td>1961.0</td>\n",
       "      <td>Nonprofit Organization</td>\n",
       "      <td>Social Assistance</td>\n",
       "      <td>Non-Profit</td>\n",
       "      <td>$100 to $500 million (USD)</td>\n",
       "      <td>NaN</td>\n",
       "      <td>True</td>\n",
       "      <td>37000</td>\n",
       "      <td>66000</td>\n",
       "    </tr>\n",
       "    <tr>\n",
       "      <th>1</th>\n",
       "      <td>Quality Data Analyst</td>\n",
       "      <td>51500.0</td>\n",
       "      <td>Overview\\n\\nProvides analytical and technical ...</td>\n",
       "      <td>3.8</td>\n",
       "      <td>Visiting Nurse Service of New York\\n3.8</td>\n",
       "      <td>New York, NY</td>\n",
       "      <td>New York, NY</td>\n",
       "      <td>10000+ employees</td>\n",
       "      <td>1893.0</td>\n",
       "      <td>Nonprofit Organization</td>\n",
       "      <td>Health Care Services &amp; Hospitals</td>\n",
       "      <td>Health Care</td>\n",
       "      <td>$2 to $5 billion (USD)</td>\n",
       "      <td>NaN</td>\n",
       "      <td>NaN</td>\n",
       "      <td>37000</td>\n",
       "      <td>66000</td>\n",
       "    </tr>\n",
       "  </tbody>\n",
       "</table>\n",
       "</div>"
      ],
      "text/plain": [
       "                                           Job Title  Salary Estimate  \\\n",
       "0  Data Analyst, Center on Immigration and Justic...          51500.0   \n",
       "1                               Quality Data Analyst          51500.0   \n",
       "\n",
       "                                     Job Description  Rating  \\\n",
       "0  Are you eager to roll up your sleeves and harn...     3.2   \n",
       "1  Overview\\n\\nProvides analytical and technical ...     3.8   \n",
       "\n",
       "                              Company Name      Location  Headquarters  \\\n",
       "0           Vera Institute of Justice\\n3.2  New York, NY  New York, NY   \n",
       "1  Visiting Nurse Service of New York\\n3.8  New York, NY  New York, NY   \n",
       "\n",
       "                   Size  Founded       Type of ownership  \\\n",
       "0  201 to 500 employees   1961.0  Nonprofit Organization   \n",
       "1      10000+ employees   1893.0  Nonprofit Organization   \n",
       "\n",
       "                           Industry       Sector                     Revenue  \\\n",
       "0                 Social Assistance   Non-Profit  $100 to $500 million (USD)   \n",
       "1  Health Care Services & Hospitals  Health Care      $2 to $5 billion (USD)   \n",
       "\n",
       "  Competitors Easy Apply  min_Salary  max_Salary  \n",
       "0         NaN       True       37000       66000  \n",
       "1         NaN        NaN       37000       66000  "
      ]
     },
     "execution_count": 132,
     "metadata": {},
     "output_type": "execute_result"
    }
   ],
   "source": [
    "df.head(2)"
   ]
  },
  {
   "cell_type": "markdown",
   "metadata": {},
   "source": [
    "##### The Company Name has Rating with it, which is redundant\n",
    "    Remove this value"
   ]
  },
  {
   "cell_type": "code",
   "execution_count": 133,
   "metadata": {},
   "outputs": [],
   "source": [
    "df['Company Name'] = df['Company Name'].apply(lambda x : x.split(\"\\n\")[0])"
   ]
  },
  {
   "cell_type": "markdown",
   "metadata": {},
   "source": [
    "##### No more Work Needed in this Column"
   ]
  },
  {
   "cell_type": "markdown",
   "metadata": {},
   "source": [
    "## Easy Apply"
   ]
  },
  {
   "cell_type": "markdown",
   "metadata": {},
   "source": [
    "### Check Easy Apply which has max NaN"
   ]
  },
  {
   "cell_type": "code",
   "execution_count": 134,
   "metadata": {},
   "outputs": [
    {
     "data": {
      "text/html": [
       "<div>\n",
       "<style scoped>\n",
       "    .dataframe tbody tr th:only-of-type {\n",
       "        vertical-align: middle;\n",
       "    }\n",
       "\n",
       "    .dataframe tbody tr th {\n",
       "        vertical-align: top;\n",
       "    }\n",
       "\n",
       "    .dataframe thead th {\n",
       "        text-align: right;\n",
       "    }\n",
       "</style>\n",
       "<table border=\"1\" class=\"dataframe\">\n",
       "  <thead>\n",
       "    <tr style=\"text-align: right;\">\n",
       "      <th></th>\n",
       "      <th>Job Title</th>\n",
       "      <th>Salary Estimate</th>\n",
       "      <th>Job Description</th>\n",
       "      <th>Rating</th>\n",
       "      <th>Company Name</th>\n",
       "      <th>Location</th>\n",
       "      <th>Headquarters</th>\n",
       "      <th>Size</th>\n",
       "      <th>Founded</th>\n",
       "      <th>Type of ownership</th>\n",
       "      <th>Industry</th>\n",
       "      <th>Sector</th>\n",
       "      <th>Revenue</th>\n",
       "      <th>Competitors</th>\n",
       "      <th>Easy Apply</th>\n",
       "      <th>min_Salary</th>\n",
       "      <th>max_Salary</th>\n",
       "    </tr>\n",
       "  </thead>\n",
       "  <tbody>\n",
       "    <tr>\n",
       "      <th>0</th>\n",
       "      <td>Data Analyst, Center on Immigration and Justic...</td>\n",
       "      <td>51500.0</td>\n",
       "      <td>Are you eager to roll up your sleeves and harn...</td>\n",
       "      <td>3.2</td>\n",
       "      <td>Vera Institute of Justice</td>\n",
       "      <td>New York, NY</td>\n",
       "      <td>New York, NY</td>\n",
       "      <td>201 to 500 employees</td>\n",
       "      <td>1961.0</td>\n",
       "      <td>Nonprofit Organization</td>\n",
       "      <td>Social Assistance</td>\n",
       "      <td>Non-Profit</td>\n",
       "      <td>$100 to $500 million (USD)</td>\n",
       "      <td>NaN</td>\n",
       "      <td>True</td>\n",
       "      <td>37000</td>\n",
       "      <td>66000</td>\n",
       "    </tr>\n",
       "    <tr>\n",
       "      <th>1</th>\n",
       "      <td>Quality Data Analyst</td>\n",
       "      <td>51500.0</td>\n",
       "      <td>Overview\\n\\nProvides analytical and technical ...</td>\n",
       "      <td>3.8</td>\n",
       "      <td>Visiting Nurse Service of New York</td>\n",
       "      <td>New York, NY</td>\n",
       "      <td>New York, NY</td>\n",
       "      <td>10000+ employees</td>\n",
       "      <td>1893.0</td>\n",
       "      <td>Nonprofit Organization</td>\n",
       "      <td>Health Care Services &amp; Hospitals</td>\n",
       "      <td>Health Care</td>\n",
       "      <td>$2 to $5 billion (USD)</td>\n",
       "      <td>NaN</td>\n",
       "      <td>NaN</td>\n",
       "      <td>37000</td>\n",
       "      <td>66000</td>\n",
       "    </tr>\n",
       "    <tr>\n",
       "      <th>2</th>\n",
       "      <td>Senior Data Analyst, Insights &amp; Analytics Team...</td>\n",
       "      <td>51500.0</td>\n",
       "      <td>We’re looking for a Senior Data Analyst who ha...</td>\n",
       "      <td>3.4</td>\n",
       "      <td>Squarespace</td>\n",
       "      <td>New York, NY</td>\n",
       "      <td>New York, NY</td>\n",
       "      <td>1001 to 5000 employees</td>\n",
       "      <td>2003.0</td>\n",
       "      <td>Company - Private</td>\n",
       "      <td>Internet</td>\n",
       "      <td>Information Technology</td>\n",
       "      <td>NaN</td>\n",
       "      <td>GoDaddy</td>\n",
       "      <td>NaN</td>\n",
       "      <td>37000</td>\n",
       "      <td>66000</td>\n",
       "    </tr>\n",
       "    <tr>\n",
       "      <th>3</th>\n",
       "      <td>Data Analyst</td>\n",
       "      <td>51500.0</td>\n",
       "      <td>Requisition NumberRR-0001939\\nRemote:Yes\\nWe c...</td>\n",
       "      <td>4.1</td>\n",
       "      <td>Celerity</td>\n",
       "      <td>New York, NY</td>\n",
       "      <td>McLean, VA</td>\n",
       "      <td>201 to 500 employees</td>\n",
       "      <td>2002.0</td>\n",
       "      <td>Subsidiary or Business Segment</td>\n",
       "      <td>IT Services</td>\n",
       "      <td>Information Technology</td>\n",
       "      <td>$50 to $100 million (USD)</td>\n",
       "      <td>NaN</td>\n",
       "      <td>NaN</td>\n",
       "      <td>37000</td>\n",
       "      <td>66000</td>\n",
       "    </tr>\n",
       "    <tr>\n",
       "      <th>4</th>\n",
       "      <td>Reporting Data Analyst</td>\n",
       "      <td>51500.0</td>\n",
       "      <td>ABOUT FANDUEL GROUP\\n\\nFanDuel Group is a worl...</td>\n",
       "      <td>3.9</td>\n",
       "      <td>FanDuel</td>\n",
       "      <td>New York, NY</td>\n",
       "      <td>New York, NY</td>\n",
       "      <td>501 to 1000 employees</td>\n",
       "      <td>2009.0</td>\n",
       "      <td>Company - Private</td>\n",
       "      <td>Sports &amp; Recreation</td>\n",
       "      <td>Arts, Entertainment &amp; Recreation</td>\n",
       "      <td>$100 to $500 million (USD)</td>\n",
       "      <td>DraftKings</td>\n",
       "      <td>True</td>\n",
       "      <td>37000</td>\n",
       "      <td>66000</td>\n",
       "    </tr>\n",
       "  </tbody>\n",
       "</table>\n",
       "</div>"
      ],
      "text/plain": [
       "                                           Job Title  Salary Estimate  \\\n",
       "0  Data Analyst, Center on Immigration and Justic...          51500.0   \n",
       "1                               Quality Data Analyst          51500.0   \n",
       "2  Senior Data Analyst, Insights & Analytics Team...          51500.0   \n",
       "3                                       Data Analyst          51500.0   \n",
       "4                             Reporting Data Analyst          51500.0   \n",
       "\n",
       "                                     Job Description  Rating  \\\n",
       "0  Are you eager to roll up your sleeves and harn...     3.2   \n",
       "1  Overview\\n\\nProvides analytical and technical ...     3.8   \n",
       "2  We’re looking for a Senior Data Analyst who ha...     3.4   \n",
       "3  Requisition NumberRR-0001939\\nRemote:Yes\\nWe c...     4.1   \n",
       "4  ABOUT FANDUEL GROUP\\n\\nFanDuel Group is a worl...     3.9   \n",
       "\n",
       "                         Company Name      Location  Headquarters  \\\n",
       "0           Vera Institute of Justice  New York, NY  New York, NY   \n",
       "1  Visiting Nurse Service of New York  New York, NY  New York, NY   \n",
       "2                         Squarespace  New York, NY  New York, NY   \n",
       "3                            Celerity  New York, NY    McLean, VA   \n",
       "4                             FanDuel  New York, NY  New York, NY   \n",
       "\n",
       "                     Size  Founded               Type of ownership  \\\n",
       "0    201 to 500 employees   1961.0          Nonprofit Organization   \n",
       "1        10000+ employees   1893.0          Nonprofit Organization   \n",
       "2  1001 to 5000 employees   2003.0               Company - Private   \n",
       "3    201 to 500 employees   2002.0  Subsidiary or Business Segment   \n",
       "4   501 to 1000 employees   2009.0               Company - Private   \n",
       "\n",
       "                           Industry                            Sector  \\\n",
       "0                 Social Assistance                        Non-Profit   \n",
       "1  Health Care Services & Hospitals                       Health Care   \n",
       "2                          Internet            Information Technology   \n",
       "3                       IT Services            Information Technology   \n",
       "4               Sports & Recreation  Arts, Entertainment & Recreation   \n",
       "\n",
       "                      Revenue Competitors Easy Apply  min_Salary  max_Salary  \n",
       "0  $100 to $500 million (USD)         NaN       True       37000       66000  \n",
       "1      $2 to $5 billion (USD)         NaN        NaN       37000       66000  \n",
       "2                         NaN     GoDaddy        NaN       37000       66000  \n",
       "3   $50 to $100 million (USD)         NaN        NaN       37000       66000  \n",
       "4  $100 to $500 million (USD)  DraftKings       True       37000       66000  "
      ]
     },
     "execution_count": 134,
     "metadata": {},
     "output_type": "execute_result"
    }
   ],
   "source": [
    "df.head()"
   ]
  },
  {
   "cell_type": "markdown",
   "metadata": {},
   "source": [
    "#### This column is boolean\n",
    "    Companies which are not hiring, donot have Easy Apply\n",
    "    Change NaN to False"
   ]
  },
  {
   "cell_type": "code",
   "execution_count": 135,
   "metadata": {},
   "outputs": [],
   "source": [
    "df['Easy Apply'].fillna(False, inplace=True)"
   ]
  },
  {
   "cell_type": "code",
   "execution_count": 136,
   "metadata": {},
   "outputs": [
    {
     "data": {
      "text/plain": [
       "0"
      ]
     },
     "execution_count": 136,
     "metadata": {},
     "output_type": "execute_result"
    }
   ],
   "source": [
    "num_of_na(df['Easy Apply'])"
   ]
  },
  {
   "cell_type": "markdown",
   "metadata": {},
   "source": [
    "#### Check Easy Apply Column"
   ]
  },
  {
   "cell_type": "code",
   "execution_count": 137,
   "metadata": {},
   "outputs": [
    {
     "data": {
      "text/plain": [
       "count      2252\n",
       "unique        2\n",
       "top       False\n",
       "freq       2172\n",
       "Name: Easy Apply, dtype: object"
      ]
     },
     "execution_count": 137,
     "metadata": {},
     "output_type": "execute_result"
    }
   ],
   "source": [
    "df['Easy Apply'].describe()"
   ]
  },
  {
   "cell_type": "markdown",
   "metadata": {},
   "source": [
    "##### No More Work Needed in this Column"
   ]
  },
  {
   "cell_type": "markdown",
   "metadata": {},
   "source": [
    "## Headquarters And Location"
   ]
  },
  {
   "cell_type": "markdown",
   "metadata": {},
   "source": [
    "### Check Headquarters with NaN"
   ]
  },
  {
   "cell_type": "code",
   "execution_count": 138,
   "metadata": {},
   "outputs": [
    {
     "data": {
      "text/html": [
       "<div>\n",
       "<style scoped>\n",
       "    .dataframe tbody tr th:only-of-type {\n",
       "        vertical-align: middle;\n",
       "    }\n",
       "\n",
       "    .dataframe tbody tr th {\n",
       "        vertical-align: top;\n",
       "    }\n",
       "\n",
       "    .dataframe thead th {\n",
       "        text-align: right;\n",
       "    }\n",
       "</style>\n",
       "<table border=\"1\" class=\"dataframe\">\n",
       "  <thead>\n",
       "    <tr style=\"text-align: right;\">\n",
       "      <th></th>\n",
       "      <th>Job Title</th>\n",
       "      <th>Salary Estimate</th>\n",
       "      <th>Job Description</th>\n",
       "      <th>Rating</th>\n",
       "      <th>Company Name</th>\n",
       "      <th>Location</th>\n",
       "      <th>Headquarters</th>\n",
       "      <th>Size</th>\n",
       "      <th>Founded</th>\n",
       "      <th>Type of ownership</th>\n",
       "      <th>Industry</th>\n",
       "      <th>Sector</th>\n",
       "      <th>Revenue</th>\n",
       "      <th>Competitors</th>\n",
       "      <th>Easy Apply</th>\n",
       "      <th>min_Salary</th>\n",
       "      <th>max_Salary</th>\n",
       "    </tr>\n",
       "  </thead>\n",
       "  <tbody>\n",
       "    <tr>\n",
       "      <th>0</th>\n",
       "      <td>Data Analyst, Center on Immigration and Justic...</td>\n",
       "      <td>51500.0</td>\n",
       "      <td>Are you eager to roll up your sleeves and harn...</td>\n",
       "      <td>3.2</td>\n",
       "      <td>Vera Institute of Justice</td>\n",
       "      <td>New York, NY</td>\n",
       "      <td>New York, NY</td>\n",
       "      <td>201 to 500 employees</td>\n",
       "      <td>1961.0</td>\n",
       "      <td>Nonprofit Organization</td>\n",
       "      <td>Social Assistance</td>\n",
       "      <td>Non-Profit</td>\n",
       "      <td>$100 to $500 million (USD)</td>\n",
       "      <td>NaN</td>\n",
       "      <td>True</td>\n",
       "      <td>37000</td>\n",
       "      <td>66000</td>\n",
       "    </tr>\n",
       "    <tr>\n",
       "      <th>1</th>\n",
       "      <td>Quality Data Analyst</td>\n",
       "      <td>51500.0</td>\n",
       "      <td>Overview\\n\\nProvides analytical and technical ...</td>\n",
       "      <td>3.8</td>\n",
       "      <td>Visiting Nurse Service of New York</td>\n",
       "      <td>New York, NY</td>\n",
       "      <td>New York, NY</td>\n",
       "      <td>10000+ employees</td>\n",
       "      <td>1893.0</td>\n",
       "      <td>Nonprofit Organization</td>\n",
       "      <td>Health Care Services &amp; Hospitals</td>\n",
       "      <td>Health Care</td>\n",
       "      <td>$2 to $5 billion (USD)</td>\n",
       "      <td>NaN</td>\n",
       "      <td>False</td>\n",
       "      <td>37000</td>\n",
       "      <td>66000</td>\n",
       "    </tr>\n",
       "    <tr>\n",
       "      <th>2</th>\n",
       "      <td>Senior Data Analyst, Insights &amp; Analytics Team...</td>\n",
       "      <td>51500.0</td>\n",
       "      <td>We’re looking for a Senior Data Analyst who ha...</td>\n",
       "      <td>3.4</td>\n",
       "      <td>Squarespace</td>\n",
       "      <td>New York, NY</td>\n",
       "      <td>New York, NY</td>\n",
       "      <td>1001 to 5000 employees</td>\n",
       "      <td>2003.0</td>\n",
       "      <td>Company - Private</td>\n",
       "      <td>Internet</td>\n",
       "      <td>Information Technology</td>\n",
       "      <td>NaN</td>\n",
       "      <td>GoDaddy</td>\n",
       "      <td>False</td>\n",
       "      <td>37000</td>\n",
       "      <td>66000</td>\n",
       "    </tr>\n",
       "    <tr>\n",
       "      <th>3</th>\n",
       "      <td>Data Analyst</td>\n",
       "      <td>51500.0</td>\n",
       "      <td>Requisition NumberRR-0001939\\nRemote:Yes\\nWe c...</td>\n",
       "      <td>4.1</td>\n",
       "      <td>Celerity</td>\n",
       "      <td>New York, NY</td>\n",
       "      <td>McLean, VA</td>\n",
       "      <td>201 to 500 employees</td>\n",
       "      <td>2002.0</td>\n",
       "      <td>Subsidiary or Business Segment</td>\n",
       "      <td>IT Services</td>\n",
       "      <td>Information Technology</td>\n",
       "      <td>$50 to $100 million (USD)</td>\n",
       "      <td>NaN</td>\n",
       "      <td>False</td>\n",
       "      <td>37000</td>\n",
       "      <td>66000</td>\n",
       "    </tr>\n",
       "    <tr>\n",
       "      <th>4</th>\n",
       "      <td>Reporting Data Analyst</td>\n",
       "      <td>51500.0</td>\n",
       "      <td>ABOUT FANDUEL GROUP\\n\\nFanDuel Group is a worl...</td>\n",
       "      <td>3.9</td>\n",
       "      <td>FanDuel</td>\n",
       "      <td>New York, NY</td>\n",
       "      <td>New York, NY</td>\n",
       "      <td>501 to 1000 employees</td>\n",
       "      <td>2009.0</td>\n",
       "      <td>Company - Private</td>\n",
       "      <td>Sports &amp; Recreation</td>\n",
       "      <td>Arts, Entertainment &amp; Recreation</td>\n",
       "      <td>$100 to $500 million (USD)</td>\n",
       "      <td>DraftKings</td>\n",
       "      <td>True</td>\n",
       "      <td>37000</td>\n",
       "      <td>66000</td>\n",
       "    </tr>\n",
       "    <tr>\n",
       "      <th>5</th>\n",
       "      <td>Data Analyst</td>\n",
       "      <td>51500.0</td>\n",
       "      <td>About Cubist\\nCubist Systematic Strategies is ...</td>\n",
       "      <td>3.9</td>\n",
       "      <td>Point72</td>\n",
       "      <td>New York, NY</td>\n",
       "      <td>Stamford, CT</td>\n",
       "      <td>1001 to 5000 employees</td>\n",
       "      <td>2014.0</td>\n",
       "      <td>Company - Private</td>\n",
       "      <td>Investment Banking &amp; Asset Management</td>\n",
       "      <td>Finance</td>\n",
       "      <td>NaN</td>\n",
       "      <td>NaN</td>\n",
       "      <td>False</td>\n",
       "      <td>37000</td>\n",
       "      <td>66000</td>\n",
       "    </tr>\n",
       "    <tr>\n",
       "      <th>6</th>\n",
       "      <td>Business/Data Analyst (FP&amp;A)</td>\n",
       "      <td>51500.0</td>\n",
       "      <td>Two Sigma is a different kind of investment ma...</td>\n",
       "      <td>4.4</td>\n",
       "      <td>Two Sigma</td>\n",
       "      <td>New York, NY</td>\n",
       "      <td>New York, NY</td>\n",
       "      <td>1001 to 5000 employees</td>\n",
       "      <td>2001.0</td>\n",
       "      <td>Company - Private</td>\n",
       "      <td>Investment Banking &amp; Asset Management</td>\n",
       "      <td>Finance</td>\n",
       "      <td>NaN</td>\n",
       "      <td>NaN</td>\n",
       "      <td>False</td>\n",
       "      <td>37000</td>\n",
       "      <td>66000</td>\n",
       "    </tr>\n",
       "    <tr>\n",
       "      <th>7</th>\n",
       "      <td>Data Science Analyst</td>\n",
       "      <td>51500.0</td>\n",
       "      <td>Data Science Analyst\\n\\nJob Details\\nLevel\\nEx...</td>\n",
       "      <td>3.7</td>\n",
       "      <td>GNY Insurance Companies</td>\n",
       "      <td>New York, NY</td>\n",
       "      <td>New York, NY</td>\n",
       "      <td>201 to 500 employees</td>\n",
       "      <td>1914.0</td>\n",
       "      <td>Company - Private</td>\n",
       "      <td>Insurance Carriers</td>\n",
       "      <td>Insurance</td>\n",
       "      <td>$100 to $500 million (USD)</td>\n",
       "      <td>Travelers, Chubb, Crum &amp; Forster</td>\n",
       "      <td>True</td>\n",
       "      <td>37000</td>\n",
       "      <td>66000</td>\n",
       "    </tr>\n",
       "    <tr>\n",
       "      <th>8</th>\n",
       "      <td>Data Analyst</td>\n",
       "      <td>51500.0</td>\n",
       "      <td>The Data Analyst is an integral member of the ...</td>\n",
       "      <td>4.0</td>\n",
       "      <td>DMGT</td>\n",
       "      <td>New York, NY</td>\n",
       "      <td>London, United Kingdom</td>\n",
       "      <td>5001 to 10000 employees</td>\n",
       "      <td>1896.0</td>\n",
       "      <td>Company - Public</td>\n",
       "      <td>Venture Capital &amp; Private Equity</td>\n",
       "      <td>Finance</td>\n",
       "      <td>$1 to $2 billion (USD)</td>\n",
       "      <td>Thomson Reuters, Hearst, Pearson</td>\n",
       "      <td>False</td>\n",
       "      <td>37000</td>\n",
       "      <td>66000</td>\n",
       "    </tr>\n",
       "    <tr>\n",
       "      <th>9</th>\n",
       "      <td>Data Analyst, Merchant Health</td>\n",
       "      <td>51500.0</td>\n",
       "      <td>About Us\\n\\nRiskified is the AI platform power...</td>\n",
       "      <td>4.4</td>\n",
       "      <td>Riskified</td>\n",
       "      <td>New York, NY</td>\n",
       "      <td>New York, NY</td>\n",
       "      <td>501 to 1000 employees</td>\n",
       "      <td>2013.0</td>\n",
       "      <td>Company - Private</td>\n",
       "      <td>Research &amp; Development</td>\n",
       "      <td>Business Services</td>\n",
       "      <td>NaN</td>\n",
       "      <td>Signifyd, Forter</td>\n",
       "      <td>False</td>\n",
       "      <td>37000</td>\n",
       "      <td>66000</td>\n",
       "    </tr>\n",
       "  </tbody>\n",
       "</table>\n",
       "</div>"
      ],
      "text/plain": [
       "                                           Job Title  Salary Estimate  \\\n",
       "0  Data Analyst, Center on Immigration and Justic...          51500.0   \n",
       "1                               Quality Data Analyst          51500.0   \n",
       "2  Senior Data Analyst, Insights & Analytics Team...          51500.0   \n",
       "3                                       Data Analyst          51500.0   \n",
       "4                             Reporting Data Analyst          51500.0   \n",
       "5                                       Data Analyst          51500.0   \n",
       "6                       Business/Data Analyst (FP&A)          51500.0   \n",
       "7                               Data Science Analyst          51500.0   \n",
       "8                                       Data Analyst          51500.0   \n",
       "9                      Data Analyst, Merchant Health          51500.0   \n",
       "\n",
       "                                     Job Description  Rating  \\\n",
       "0  Are you eager to roll up your sleeves and harn...     3.2   \n",
       "1  Overview\\n\\nProvides analytical and technical ...     3.8   \n",
       "2  We’re looking for a Senior Data Analyst who ha...     3.4   \n",
       "3  Requisition NumberRR-0001939\\nRemote:Yes\\nWe c...     4.1   \n",
       "4  ABOUT FANDUEL GROUP\\n\\nFanDuel Group is a worl...     3.9   \n",
       "5  About Cubist\\nCubist Systematic Strategies is ...     3.9   \n",
       "6  Two Sigma is a different kind of investment ma...     4.4   \n",
       "7  Data Science Analyst\\n\\nJob Details\\nLevel\\nEx...     3.7   \n",
       "8  The Data Analyst is an integral member of the ...     4.0   \n",
       "9  About Us\\n\\nRiskified is the AI platform power...     4.4   \n",
       "\n",
       "                         Company Name      Location            Headquarters  \\\n",
       "0           Vera Institute of Justice  New York, NY            New York, NY   \n",
       "1  Visiting Nurse Service of New York  New York, NY            New York, NY   \n",
       "2                         Squarespace  New York, NY            New York, NY   \n",
       "3                            Celerity  New York, NY              McLean, VA   \n",
       "4                             FanDuel  New York, NY            New York, NY   \n",
       "5                             Point72  New York, NY            Stamford, CT   \n",
       "6                           Two Sigma  New York, NY            New York, NY   \n",
       "7             GNY Insurance Companies  New York, NY            New York, NY   \n",
       "8                                DMGT  New York, NY  London, United Kingdom   \n",
       "9                           Riskified  New York, NY            New York, NY   \n",
       "\n",
       "                      Size  Founded               Type of ownership  \\\n",
       "0     201 to 500 employees   1961.0          Nonprofit Organization   \n",
       "1         10000+ employees   1893.0          Nonprofit Organization   \n",
       "2   1001 to 5000 employees   2003.0               Company - Private   \n",
       "3     201 to 500 employees   2002.0  Subsidiary or Business Segment   \n",
       "4    501 to 1000 employees   2009.0               Company - Private   \n",
       "5   1001 to 5000 employees   2014.0               Company - Private   \n",
       "6   1001 to 5000 employees   2001.0               Company - Private   \n",
       "7     201 to 500 employees   1914.0               Company - Private   \n",
       "8  5001 to 10000 employees   1896.0                Company - Public   \n",
       "9    501 to 1000 employees   2013.0               Company - Private   \n",
       "\n",
       "                                Industry                            Sector  \\\n",
       "0                      Social Assistance                        Non-Profit   \n",
       "1       Health Care Services & Hospitals                       Health Care   \n",
       "2                               Internet            Information Technology   \n",
       "3                            IT Services            Information Technology   \n",
       "4                    Sports & Recreation  Arts, Entertainment & Recreation   \n",
       "5  Investment Banking & Asset Management                           Finance   \n",
       "6  Investment Banking & Asset Management                           Finance   \n",
       "7                     Insurance Carriers                         Insurance   \n",
       "8       Venture Capital & Private Equity                           Finance   \n",
       "9                 Research & Development                 Business Services   \n",
       "\n",
       "                      Revenue                       Competitors Easy Apply  \\\n",
       "0  $100 to $500 million (USD)                               NaN       True   \n",
       "1      $2 to $5 billion (USD)                               NaN      False   \n",
       "2                         NaN                           GoDaddy      False   \n",
       "3   $50 to $100 million (USD)                               NaN      False   \n",
       "4  $100 to $500 million (USD)                        DraftKings       True   \n",
       "5                         NaN                               NaN      False   \n",
       "6                         NaN                               NaN      False   \n",
       "7  $100 to $500 million (USD)  Travelers, Chubb, Crum & Forster       True   \n",
       "8      $1 to $2 billion (USD)  Thomson Reuters, Hearst, Pearson      False   \n",
       "9                         NaN                  Signifyd, Forter      False   \n",
       "\n",
       "   min_Salary  max_Salary  \n",
       "0       37000       66000  \n",
       "1       37000       66000  \n",
       "2       37000       66000  \n",
       "3       37000       66000  \n",
       "4       37000       66000  \n",
       "5       37000       66000  \n",
       "6       37000       66000  \n",
       "7       37000       66000  \n",
       "8       37000       66000  \n",
       "9       37000       66000  "
      ]
     },
     "execution_count": 138,
     "metadata": {},
     "output_type": "execute_result"
    }
   ],
   "source": [
    "df.head(10)"
   ]
  },
  {
   "cell_type": "markdown",
   "metadata": {},
   "source": [
    "#### Headquarters is a location; Can be related to Location column"
   ]
  },
  {
   "cell_type": "code",
   "execution_count": 139,
   "metadata": {},
   "outputs": [
    {
     "data": {
      "text/plain": [
       "651"
      ]
     },
     "execution_count": 139,
     "metadata": {},
     "output_type": "execute_result"
    }
   ],
   "source": [
    "len(df[df['Headquarters'] == df['Location']])"
   ]
  },
  {
   "cell_type": "code",
   "execution_count": 140,
   "metadata": {},
   "outputs": [
    {
     "data": {
      "text/plain": [
       "253"
      ]
     },
     "execution_count": 140,
     "metadata": {},
     "output_type": "execute_result"
    }
   ],
   "source": [
    "df['Location'].nunique()"
   ]
  },
  {
   "cell_type": "code",
   "execution_count": 141,
   "metadata": {},
   "outputs": [
    {
     "data": {
      "text/plain": [
       "482"
      ]
     },
     "execution_count": 141,
     "metadata": {},
     "output_type": "execute_result"
    }
   ],
   "source": [
    "df['Headquarters'].nunique()"
   ]
  },
  {
   "cell_type": "markdown",
   "metadata": {},
   "source": [
    "##### There is not much difference in the number of unique values, and many companies have same location for hiring and headquarter\n",
    "    Fill the NaN in Headquarters with respective location"
   ]
  },
  {
   "cell_type": "code",
   "execution_count": 142,
   "metadata": {},
   "outputs": [],
   "source": [
    "df['Headquarters'].fillna(df['Location'], inplace=True)"
   ]
  },
  {
   "cell_type": "code",
   "execution_count": 143,
   "metadata": {},
   "outputs": [
    {
     "data": {
      "text/plain": [
       "0"
      ]
     },
     "execution_count": 143,
     "metadata": {},
     "output_type": "execute_result"
    }
   ],
   "source": [
    "num_of_na(df['Headquarters'])"
   ]
  },
  {
   "cell_type": "code",
   "execution_count": 144,
   "metadata": {},
   "outputs": [
    {
     "data": {
      "text/html": [
       "<div>\n",
       "<style scoped>\n",
       "    .dataframe tbody tr th:only-of-type {\n",
       "        vertical-align: middle;\n",
       "    }\n",
       "\n",
       "    .dataframe tbody tr th {\n",
       "        vertical-align: top;\n",
       "    }\n",
       "\n",
       "    .dataframe thead th {\n",
       "        text-align: right;\n",
       "    }\n",
       "</style>\n",
       "<table border=\"1\" class=\"dataframe\">\n",
       "  <thead>\n",
       "    <tr style=\"text-align: right;\">\n",
       "      <th></th>\n",
       "      <th>Job Title</th>\n",
       "      <th>Salary Estimate</th>\n",
       "      <th>Job Description</th>\n",
       "      <th>Rating</th>\n",
       "      <th>Company Name</th>\n",
       "      <th>Location</th>\n",
       "      <th>Headquarters</th>\n",
       "      <th>Size</th>\n",
       "      <th>Founded</th>\n",
       "      <th>Type of ownership</th>\n",
       "      <th>Industry</th>\n",
       "      <th>Sector</th>\n",
       "      <th>Revenue</th>\n",
       "      <th>Competitors</th>\n",
       "      <th>Easy Apply</th>\n",
       "      <th>min_Salary</th>\n",
       "      <th>max_Salary</th>\n",
       "    </tr>\n",
       "  </thead>\n",
       "  <tbody>\n",
       "    <tr>\n",
       "      <th>0</th>\n",
       "      <td>Data Analyst, Center on Immigration and Justic...</td>\n",
       "      <td>51500.0</td>\n",
       "      <td>Are you eager to roll up your sleeves and harn...</td>\n",
       "      <td>3.2</td>\n",
       "      <td>Vera Institute of Justice</td>\n",
       "      <td>New York, NY</td>\n",
       "      <td>New York, NY</td>\n",
       "      <td>201 to 500 employees</td>\n",
       "      <td>1961.0</td>\n",
       "      <td>Nonprofit Organization</td>\n",
       "      <td>Social Assistance</td>\n",
       "      <td>Non-Profit</td>\n",
       "      <td>$100 to $500 million (USD)</td>\n",
       "      <td>NaN</td>\n",
       "      <td>True</td>\n",
       "      <td>37000</td>\n",
       "      <td>66000</td>\n",
       "    </tr>\n",
       "    <tr>\n",
       "      <th>1</th>\n",
       "      <td>Quality Data Analyst</td>\n",
       "      <td>51500.0</td>\n",
       "      <td>Overview\\n\\nProvides analytical and technical ...</td>\n",
       "      <td>3.8</td>\n",
       "      <td>Visiting Nurse Service of New York</td>\n",
       "      <td>New York, NY</td>\n",
       "      <td>New York, NY</td>\n",
       "      <td>10000+ employees</td>\n",
       "      <td>1893.0</td>\n",
       "      <td>Nonprofit Organization</td>\n",
       "      <td>Health Care Services &amp; Hospitals</td>\n",
       "      <td>Health Care</td>\n",
       "      <td>$2 to $5 billion (USD)</td>\n",
       "      <td>NaN</td>\n",
       "      <td>False</td>\n",
       "      <td>37000</td>\n",
       "      <td>66000</td>\n",
       "    </tr>\n",
       "    <tr>\n",
       "      <th>2</th>\n",
       "      <td>Senior Data Analyst, Insights &amp; Analytics Team...</td>\n",
       "      <td>51500.0</td>\n",
       "      <td>We’re looking for a Senior Data Analyst who ha...</td>\n",
       "      <td>3.4</td>\n",
       "      <td>Squarespace</td>\n",
       "      <td>New York, NY</td>\n",
       "      <td>New York, NY</td>\n",
       "      <td>1001 to 5000 employees</td>\n",
       "      <td>2003.0</td>\n",
       "      <td>Company - Private</td>\n",
       "      <td>Internet</td>\n",
       "      <td>Information Technology</td>\n",
       "      <td>NaN</td>\n",
       "      <td>GoDaddy</td>\n",
       "      <td>False</td>\n",
       "      <td>37000</td>\n",
       "      <td>66000</td>\n",
       "    </tr>\n",
       "    <tr>\n",
       "      <th>3</th>\n",
       "      <td>Data Analyst</td>\n",
       "      <td>51500.0</td>\n",
       "      <td>Requisition NumberRR-0001939\\nRemote:Yes\\nWe c...</td>\n",
       "      <td>4.1</td>\n",
       "      <td>Celerity</td>\n",
       "      <td>New York, NY</td>\n",
       "      <td>McLean, VA</td>\n",
       "      <td>201 to 500 employees</td>\n",
       "      <td>2002.0</td>\n",
       "      <td>Subsidiary or Business Segment</td>\n",
       "      <td>IT Services</td>\n",
       "      <td>Information Technology</td>\n",
       "      <td>$50 to $100 million (USD)</td>\n",
       "      <td>NaN</td>\n",
       "      <td>False</td>\n",
       "      <td>37000</td>\n",
       "      <td>66000</td>\n",
       "    </tr>\n",
       "    <tr>\n",
       "      <th>4</th>\n",
       "      <td>Reporting Data Analyst</td>\n",
       "      <td>51500.0</td>\n",
       "      <td>ABOUT FANDUEL GROUP\\n\\nFanDuel Group is a worl...</td>\n",
       "      <td>3.9</td>\n",
       "      <td>FanDuel</td>\n",
       "      <td>New York, NY</td>\n",
       "      <td>New York, NY</td>\n",
       "      <td>501 to 1000 employees</td>\n",
       "      <td>2009.0</td>\n",
       "      <td>Company - Private</td>\n",
       "      <td>Sports &amp; Recreation</td>\n",
       "      <td>Arts, Entertainment &amp; Recreation</td>\n",
       "      <td>$100 to $500 million (USD)</td>\n",
       "      <td>DraftKings</td>\n",
       "      <td>True</td>\n",
       "      <td>37000</td>\n",
       "      <td>66000</td>\n",
       "    </tr>\n",
       "  </tbody>\n",
       "</table>\n",
       "</div>"
      ],
      "text/plain": [
       "                                           Job Title  Salary Estimate  \\\n",
       "0  Data Analyst, Center on Immigration and Justic...          51500.0   \n",
       "1                               Quality Data Analyst          51500.0   \n",
       "2  Senior Data Analyst, Insights & Analytics Team...          51500.0   \n",
       "3                                       Data Analyst          51500.0   \n",
       "4                             Reporting Data Analyst          51500.0   \n",
       "\n",
       "                                     Job Description  Rating  \\\n",
       "0  Are you eager to roll up your sleeves and harn...     3.2   \n",
       "1  Overview\\n\\nProvides analytical and technical ...     3.8   \n",
       "2  We’re looking for a Senior Data Analyst who ha...     3.4   \n",
       "3  Requisition NumberRR-0001939\\nRemote:Yes\\nWe c...     4.1   \n",
       "4  ABOUT FANDUEL GROUP\\n\\nFanDuel Group is a worl...     3.9   \n",
       "\n",
       "                         Company Name      Location  Headquarters  \\\n",
       "0           Vera Institute of Justice  New York, NY  New York, NY   \n",
       "1  Visiting Nurse Service of New York  New York, NY  New York, NY   \n",
       "2                         Squarespace  New York, NY  New York, NY   \n",
       "3                            Celerity  New York, NY    McLean, VA   \n",
       "4                             FanDuel  New York, NY  New York, NY   \n",
       "\n",
       "                     Size  Founded               Type of ownership  \\\n",
       "0    201 to 500 employees   1961.0          Nonprofit Organization   \n",
       "1        10000+ employees   1893.0          Nonprofit Organization   \n",
       "2  1001 to 5000 employees   2003.0               Company - Private   \n",
       "3    201 to 500 employees   2002.0  Subsidiary or Business Segment   \n",
       "4   501 to 1000 employees   2009.0               Company - Private   \n",
       "\n",
       "                           Industry                            Sector  \\\n",
       "0                 Social Assistance                        Non-Profit   \n",
       "1  Health Care Services & Hospitals                       Health Care   \n",
       "2                          Internet            Information Technology   \n",
       "3                       IT Services            Information Technology   \n",
       "4               Sports & Recreation  Arts, Entertainment & Recreation   \n",
       "\n",
       "                      Revenue Competitors Easy Apply  min_Salary  max_Salary  \n",
       "0  $100 to $500 million (USD)         NaN       True       37000       66000  \n",
       "1      $2 to $5 billion (USD)         NaN      False       37000       66000  \n",
       "2                         NaN     GoDaddy      False       37000       66000  \n",
       "3   $50 to $100 million (USD)         NaN      False       37000       66000  \n",
       "4  $100 to $500 million (USD)  DraftKings       True       37000       66000  "
      ]
     },
     "execution_count": 144,
     "metadata": {},
     "output_type": "execute_result"
    }
   ],
   "source": [
    "df.head()"
   ]
  },
  {
   "cell_type": "markdown",
   "metadata": {},
   "source": [
    "##### Redundant Short for City Names can be removed"
   ]
  },
  {
   "cell_type": "code",
   "execution_count": 145,
   "metadata": {},
   "outputs": [],
   "source": [
    "df['Headquarters'] = df['Headquarters'].apply(lambda x : x.split(\",\")[0])\n",
    "df['Location'] = df['Location'].apply(lambda x : x.split(\",\")[0])"
   ]
  },
  {
   "cell_type": "markdown",
   "metadata": {},
   "source": [
    "##### No More Work in this Column"
   ]
  },
  {
   "cell_type": "markdown",
   "metadata": {},
   "source": [
    "## Rating"
   ]
  },
  {
   "cell_type": "markdown",
   "metadata": {},
   "source": [
    "### Check Rating Column with NaN"
   ]
  },
  {
   "cell_type": "markdown",
   "metadata": {},
   "source": [
    "##### Is there any relationship with other columns?\n",
    "    Choosing the values because:\n",
    "    Sector: Companies hiring in sectors which are a hot topic can have higher rating\n",
    "    Size: Bigger the company, more the rating\n",
    "    Revenue: Higher the revenue, more the rating"
   ]
  },
  {
   "cell_type": "code",
   "execution_count": 146,
   "metadata": {},
   "outputs": [
    {
     "data": {
      "text/plain": [
       "<AxesSubplot:>"
      ]
     },
     "execution_count": 146,
     "metadata": {},
     "output_type": "execute_result"
    },
    {
     "data": {
      "image/png": "[encoded data removed]",
      "text/plain": [
       "<Figure size 1152x576 with 1 Axes>"
      ]
     },
     "metadata": {
      "needs_background": "light"
     },
     "output_type": "display_data"
    }
   ],
   "source": [
    "fig = plt.figure(figsize=(16,8))\n",
    "plt.tight_layout\n",
    "sns.heatmap(df.isna()[['Rating', 'Sector', 'Size', 'Revenue']], cbar=False)"
   ]
  },
  {
   "cell_type": "markdown",
   "metadata": {},
   "source": [
    "##### There might apparently appear to be a relationship, but it might not be true\n",
    "    Therefore check the mean values with respect to each choice"
   ]
  },
  {
   "cell_type": "code",
   "execution_count": 147,
   "metadata": {},
   "outputs": [
    {
     "name": "stdout",
     "output_type": "stream",
     "text": [
      "Avg Rating:  3.57937049061468\n"
     ]
    },
    {
     "data": {
      "text/plain": [
       "Sector\n",
       "Accounting & Legal                    3.741860\n",
       "Aerospace & Defense                   3.645455\n",
       "Arts, Entertainment & Recreation      3.800000\n",
       "Biotech & Pharmaceuticals             3.390909\n",
       "Business Services                     3.763672\n",
       "Construction, Repair & Maintenance    3.581818\n",
       "Consumer Services                     3.528571\n",
       "Education                             3.996078\n",
       "Finance                               3.562651\n",
       "Government                            3.277143\n",
       "Health Care                           3.560000\n",
       "Information Technology                3.977240\n",
       "Insurance                             3.331373\n",
       "Manufacturing                         3.297500\n",
       "Media                                 3.890476\n",
       "Mining & Metals                       3.500000\n",
       "Non-Profit                            3.354167\n",
       "Oil, Gas, Energy & Utilities          3.476923\n",
       "Real Estate                           3.772727\n",
       "Restaurants, Bars & Food Services     3.137500\n",
       "Retail                                3.297297\n",
       "Telecommunications                    3.563636\n",
       "Transportation & Logistics            3.457895\n",
       "Travel & Tourism                      4.000000\n",
       "Name: Rating, dtype: float64"
      ]
     },
     "execution_count": 147,
     "metadata": {},
     "output_type": "execute_result"
    }
   ],
   "source": [
    "sec = df.groupby('Sector')['Rating'].mean()\n",
    "print(\"Avg Rating: \", sec.sum()/df['Sector'].nunique())\n",
    "sec"
   ]
  },
  {
   "cell_type": "code",
   "execution_count": 148,
   "metadata": {},
   "outputs": [
    {
     "name": "stdout",
     "output_type": "stream",
     "text": [
      "Avg Rating:  3.711557940594435\n"
     ]
    },
    {
     "data": {
      "text/plain": [
       "Size\n",
       "1 to 50 employees          3.860764\n",
       "10000+ employees           3.633067\n",
       "1001 to 5000 employees     3.509798\n",
       "201 to 500 employees       3.667886\n",
       "5001 to 10000 employees    3.636082\n",
       "501 to 1000 employees      3.647867\n",
       "51 to 200 employees        4.025441\n",
       "Name: Rating, dtype: float64"
      ]
     },
     "execution_count": 148,
     "metadata": {},
     "output_type": "execute_result"
    }
   ],
   "source": [
    "sz = df.groupby('Size')['Rating'].mean()\n",
    "print(\"Avg Rating: \", sz.sum()/df['Size'].nunique())\n",
    "sz"
   ]
  },
  {
   "cell_type": "code",
   "execution_count": 149,
   "metadata": {},
   "outputs": [
    {
     "name": "stdout",
     "output_type": "stream",
     "text": [
      "Avg Rating:  3.700674695004546\n"
     ]
    },
    {
     "data": {
      "text/plain": [
       "Revenue\n",
       "$1 to $2 billion (USD)              3.752874\n",
       "$1 to $5 million (USD)              3.834653\n",
       "$10 to $25 million (USD)            3.751145\n",
       "$10+ billion (USD)                  3.657143\n",
       "$100 to $500 million (USD)          3.605505\n",
       "$2 to $5 billion (USD)              3.533333\n",
       "$25 to $50 million (USD)            3.716364\n",
       "$5 to $10 billion (USD)             3.480357\n",
       "$5 to $10 million (USD)             3.766197\n",
       "$50 to $100 million (USD)           4.084925\n",
       "$500 million to $1 billion (USD)    3.527848\n",
       "Less than $1 million (USD)          3.697753\n",
       "Name: Rating, dtype: float64"
      ]
     },
     "execution_count": 149,
     "metadata": {},
     "output_type": "execute_result"
    }
   ],
   "source": [
    "rev = df.groupby('Revenue')['Rating'].mean()\n",
    "print(\"Avg Rating: \", rev.sum()/df['Revenue'].nunique())\n",
    "rev"
   ]
  },
  {
   "cell_type": "code",
   "execution_count": 150,
   "metadata": {},
   "outputs": [
    {
     "data": {
      "text/plain": [
       "count    1981.000000\n",
       "mean        3.731903\n",
       "std         0.670332\n",
       "min         1.000000\n",
       "25%         3.300000\n",
       "50%         3.700000\n",
       "75%         4.100000\n",
       "max         5.000000\n",
       "Name: Rating, dtype: float64"
      ]
     },
     "execution_count": 150,
     "metadata": {},
     "output_type": "execute_result"
    }
   ],
   "source": [
    "df['Rating'].describe()"
   ]
  },
  {
   "cell_type": "markdown",
   "metadata": {},
   "source": [
    "##### We can see that the average values of each choice is not too far from the avg value of the Rating column\n",
    "    Therefore fill the NaN with the average Rating"
   ]
  },
  {
   "cell_type": "code",
   "execution_count": 151,
   "metadata": {},
   "outputs": [],
   "source": [
    "mean_rating = round(df['Rating'].mean(), 1) # Taking only 1 decimal place\n",
    "df['Rating'].fillna(mean_rating, inplace=True)"
   ]
  },
  {
   "cell_type": "code",
   "execution_count": 152,
   "metadata": {},
   "outputs": [
    {
     "data": {
      "text/plain": [
       "0"
      ]
     },
     "execution_count": 152,
     "metadata": {},
     "output_type": "execute_result"
    }
   ],
   "source": [
    "num_of_na(df['Rating'])"
   ]
  },
  {
   "cell_type": "markdown",
   "metadata": {},
   "source": [
    "##### No More Work in this Column"
   ]
  },
  {
   "cell_type": "markdown",
   "metadata": {},
   "source": [
    "## Revenue"
   ]
  },
  {
   "cell_type": "markdown",
   "metadata": {},
   "source": [
    "### Check Revenue Column with NaN"
   ]
  },
  {
   "cell_type": "code",
   "execution_count": 153,
   "metadata": {},
   "outputs": [
    {
     "data": {
      "text/html": [
       "<div>\n",
       "<style scoped>\n",
       "    .dataframe tbody tr th:only-of-type {\n",
       "        vertical-align: middle;\n",
       "    }\n",
       "\n",
       "    .dataframe tbody tr th {\n",
       "        vertical-align: top;\n",
       "    }\n",
       "\n",
       "    .dataframe thead th {\n",
       "        text-align: right;\n",
       "    }\n",
       "</style>\n",
       "<table border=\"1\" class=\"dataframe\">\n",
       "  <thead>\n",
       "    <tr style=\"text-align: right;\">\n",
       "      <th></th>\n",
       "      <th>Job Title</th>\n",
       "      <th>Salary Estimate</th>\n",
       "      <th>Job Description</th>\n",
       "      <th>Rating</th>\n",
       "      <th>Company Name</th>\n",
       "      <th>Location</th>\n",
       "      <th>Headquarters</th>\n",
       "      <th>Size</th>\n",
       "      <th>Founded</th>\n",
       "      <th>Type of ownership</th>\n",
       "      <th>Industry</th>\n",
       "      <th>Sector</th>\n",
       "      <th>Revenue</th>\n",
       "      <th>Competitors</th>\n",
       "      <th>Easy Apply</th>\n",
       "      <th>min_Salary</th>\n",
       "      <th>max_Salary</th>\n",
       "    </tr>\n",
       "  </thead>\n",
       "  <tbody>\n",
       "    <tr>\n",
       "      <th>0</th>\n",
       "      <td>Data Analyst, Center on Immigration and Justic...</td>\n",
       "      <td>51500.0</td>\n",
       "      <td>Are you eager to roll up your sleeves and harn...</td>\n",
       "      <td>3.2</td>\n",
       "      <td>Vera Institute of Justice</td>\n",
       "      <td>New York</td>\n",
       "      <td>New York</td>\n",
       "      <td>201 to 500 employees</td>\n",
       "      <td>1961.0</td>\n",
       "      <td>Nonprofit Organization</td>\n",
       "      <td>Social Assistance</td>\n",
       "      <td>Non-Profit</td>\n",
       "      <td>$100 to $500 million (USD)</td>\n",
       "      <td>NaN</td>\n",
       "      <td>True</td>\n",
       "      <td>37000</td>\n",
       "      <td>66000</td>\n",
       "    </tr>\n",
       "    <tr>\n",
       "      <th>1</th>\n",
       "      <td>Quality Data Analyst</td>\n",
       "      <td>51500.0</td>\n",
       "      <td>Overview\\n\\nProvides analytical and technical ...</td>\n",
       "      <td>3.8</td>\n",
       "      <td>Visiting Nurse Service of New York</td>\n",
       "      <td>New York</td>\n",
       "      <td>New York</td>\n",
       "      <td>10000+ employees</td>\n",
       "      <td>1893.0</td>\n",
       "      <td>Nonprofit Organization</td>\n",
       "      <td>Health Care Services &amp; Hospitals</td>\n",
       "      <td>Health Care</td>\n",
       "      <td>$2 to $5 billion (USD)</td>\n",
       "      <td>NaN</td>\n",
       "      <td>False</td>\n",
       "      <td>37000</td>\n",
       "      <td>66000</td>\n",
       "    </tr>\n",
       "    <tr>\n",
       "      <th>2</th>\n",
       "      <td>Senior Data Analyst, Insights &amp; Analytics Team...</td>\n",
       "      <td>51500.0</td>\n",
       "      <td>We’re looking for a Senior Data Analyst who ha...</td>\n",
       "      <td>3.4</td>\n",
       "      <td>Squarespace</td>\n",
       "      <td>New York</td>\n",
       "      <td>New York</td>\n",
       "      <td>1001 to 5000 employees</td>\n",
       "      <td>2003.0</td>\n",
       "      <td>Company - Private</td>\n",
       "      <td>Internet</td>\n",
       "      <td>Information Technology</td>\n",
       "      <td>NaN</td>\n",
       "      <td>GoDaddy</td>\n",
       "      <td>False</td>\n",
       "      <td>37000</td>\n",
       "      <td>66000</td>\n",
       "    </tr>\n",
       "    <tr>\n",
       "      <th>3</th>\n",
       "      <td>Data Analyst</td>\n",
       "      <td>51500.0</td>\n",
       "      <td>Requisition NumberRR-0001939\\nRemote:Yes\\nWe c...</td>\n",
       "      <td>4.1</td>\n",
       "      <td>Celerity</td>\n",
       "      <td>New York</td>\n",
       "      <td>McLean</td>\n",
       "      <td>201 to 500 employees</td>\n",
       "      <td>2002.0</td>\n",
       "      <td>Subsidiary or Business Segment</td>\n",
       "      <td>IT Services</td>\n",
       "      <td>Information Technology</td>\n",
       "      <td>$50 to $100 million (USD)</td>\n",
       "      <td>NaN</td>\n",
       "      <td>False</td>\n",
       "      <td>37000</td>\n",
       "      <td>66000</td>\n",
       "    </tr>\n",
       "    <tr>\n",
       "      <th>4</th>\n",
       "      <td>Reporting Data Analyst</td>\n",
       "      <td>51500.0</td>\n",
       "      <td>ABOUT FANDUEL GROUP\\n\\nFanDuel Group is a worl...</td>\n",
       "      <td>3.9</td>\n",
       "      <td>FanDuel</td>\n",
       "      <td>New York</td>\n",
       "      <td>New York</td>\n",
       "      <td>501 to 1000 employees</td>\n",
       "      <td>2009.0</td>\n",
       "      <td>Company - Private</td>\n",
       "      <td>Sports &amp; Recreation</td>\n",
       "      <td>Arts, Entertainment &amp; Recreation</td>\n",
       "      <td>$100 to $500 million (USD)</td>\n",
       "      <td>DraftKings</td>\n",
       "      <td>True</td>\n",
       "      <td>37000</td>\n",
       "      <td>66000</td>\n",
       "    </tr>\n",
       "  </tbody>\n",
       "</table>\n",
       "</div>"
      ],
      "text/plain": [
       "                                           Job Title  Salary Estimate  \\\n",
       "0  Data Analyst, Center on Immigration and Justic...          51500.0   \n",
       "1                               Quality Data Analyst          51500.0   \n",
       "2  Senior Data Analyst, Insights & Analytics Team...          51500.0   \n",
       "3                                       Data Analyst          51500.0   \n",
       "4                             Reporting Data Analyst          51500.0   \n",
       "\n",
       "                                     Job Description  Rating  \\\n",
       "0  Are you eager to roll up your sleeves and harn...     3.2   \n",
       "1  Overview\\n\\nProvides analytical and technical ...     3.8   \n",
       "2  We’re looking for a Senior Data Analyst who ha...     3.4   \n",
       "3  Requisition NumberRR-0001939\\nRemote:Yes\\nWe c...     4.1   \n",
       "4  ABOUT FANDUEL GROUP\\n\\nFanDuel Group is a worl...     3.9   \n",
       "\n",
       "                         Company Name  Location Headquarters  \\\n",
       "0           Vera Institute of Justice  New York     New York   \n",
       "1  Visiting Nurse Service of New York  New York     New York   \n",
       "2                         Squarespace  New York     New York   \n",
       "3                            Celerity  New York       McLean   \n",
       "4                             FanDuel  New York     New York   \n",
       "\n",
       "                     Size  Founded               Type of ownership  \\\n",
       "0    201 to 500 employees   1961.0          Nonprofit Organization   \n",
       "1        10000+ employees   1893.0          Nonprofit Organization   \n",
       "2  1001 to 5000 employees   2003.0               Company - Private   \n",
       "3    201 to 500 employees   2002.0  Subsidiary or Business Segment   \n",
       "4   501 to 1000 employees   2009.0               Company - Private   \n",
       "\n",
       "                           Industry                            Sector  \\\n",
       "0                 Social Assistance                        Non-Profit   \n",
       "1  Health Care Services & Hospitals                       Health Care   \n",
       "2                          Internet            Information Technology   \n",
       "3                       IT Services            Information Technology   \n",
       "4               Sports & Recreation  Arts, Entertainment & Recreation   \n",
       "\n",
       "                      Revenue Competitors Easy Apply  min_Salary  max_Salary  \n",
       "0  $100 to $500 million (USD)         NaN       True       37000       66000  \n",
       "1      $2 to $5 billion (USD)         NaN      False       37000       66000  \n",
       "2                         NaN     GoDaddy      False       37000       66000  \n",
       "3   $50 to $100 million (USD)         NaN      False       37000       66000  \n",
       "4  $100 to $500 million (USD)  DraftKings       True       37000       66000  "
      ]
     },
     "execution_count": 153,
     "metadata": {},
     "output_type": "execute_result"
    }
   ],
   "source": [
    "df.head()"
   ]
  },
  {
   "cell_type": "code",
   "execution_count": 154,
   "metadata": {},
   "outputs": [
    {
     "data": {
      "text/plain": [
       "777"
      ]
     },
     "execution_count": 154,
     "metadata": {},
     "output_type": "execute_result"
    }
   ],
   "source": [
    "num_of_na(df['Revenue'])"
   ]
  },
  {
   "cell_type": "markdown",
   "metadata": {},
   "source": [
    "##### Convert The Categorical Values to Numerical"
   ]
  },
  {
   "cell_type": "code",
   "execution_count": 155,
   "metadata": {},
   "outputs": [
    {
     "name": "stdout",
     "output_type": "stream",
     "text": [
      "$100 to $500 million (USD)\n",
      "$2 to $5 billion (USD)\n",
      "nan\n",
      "$50 to $100 million (USD)\n",
      "$1 to $2 billion (USD)\n",
      "$5 to $10 billion (USD)\n",
      "$1 to $5 million (USD)\n",
      "$25 to $50 million (USD)\n",
      "$10+ billion (USD)\n",
      "Less than $1 million (USD)\n",
      "$10 to $25 million (USD)\n",
      "$500 million to $1 billion (USD)\n",
      "$5 to $10 million (USD)\n"
     ]
    }
   ],
   "source": [
    "print(*df['Revenue'].unique(), sep='\\n')"
   ]
  },
  {
   "cell_type": "code",
   "execution_count": 156,
   "metadata": {},
   "outputs": [],
   "source": [
    "def convert_revenue(data):\n",
    "    if isinstance(data, float):\n",
    "        return data\n",
    "    if '+' in data:\n",
    "        return 10000000000\n",
    "    elif 'less' in data.lower():\n",
    "        return 1000000\n",
    "    else:\n",
    "        value = {'million':1000000, 'billion':1000000000}\n",
    "        temp = data.split(\"to\")[1].split()[:2]\n",
    "        \n",
    "        return int(temp[0][1:]) * value[temp[1].lower()]\n",
    "df['Revenue'] = df['Revenue'].apply(convert_revenue)"
   ]
  },
  {
   "cell_type": "markdown",
   "metadata": {},
   "source": [
    "##### Checking Distribution of Revenue"
   ]
  },
  {
   "cell_type": "code",
   "execution_count": 157,
   "metadata": {},
   "outputs": [
    {
     "data": {
      "text/plain": [
       "<AxesSubplot:xlabel='Revenue'>"
      ]
     },
     "execution_count": 157,
     "metadata": {},
     "output_type": "execute_result"
    },
    {
     "data": {
      "image/png": "[encoded data removed]",
      "text/plain": [
       "<Figure size 432x288 with 1 Axes>"
      ]
     },
     "metadata": {
      "needs_background": "light"
     },
     "output_type": "display_data"
    }
   ],
   "source": [
    "sns.distplot(df['Revenue'])"
   ]
  },
  {
   "cell_type": "code",
   "execution_count": 158,
   "metadata": {},
   "outputs": [
    {
     "data": {
      "text/plain": [
       "<AxesSubplot:xlabel='Revenue'>"
      ]
     },
     "execution_count": 158,
     "metadata": {},
     "output_type": "execute_result"
    },
    {
     "data": {
      "image/png": "[encoded data removed]",
      "text/plain": [
       "<Figure size 432x288 with 1 Axes>"
      ]
     },
     "metadata": {
      "needs_background": "light"
     },
     "output_type": "display_data"
    }
   ],
   "source": [
    "sns.violinplot(df['Revenue'], palette='cool')"
   ]
  },
  {
   "cell_type": "code",
   "execution_count": 159,
   "metadata": {},
   "outputs": [
    {
     "data": {
      "text/plain": [
       "<AxesSubplot:xlabel='Revenue'>"
      ]
     },
     "execution_count": 159,
     "metadata": {},
     "output_type": "execute_result"
    },
    {
     "data": {
      "image/png": "[encoded data removed]",
      "text/plain": [
       "<Figure size 432x288 with 1 Axes>"
      ]
     },
     "metadata": {
      "needs_background": "light"
     },
     "output_type": "display_data"
    }
   ],
   "source": [
    "sns.boxplot(df['Revenue'], color='skyblue')"
   ]
  },
  {
   "cell_type": "markdown",
   "metadata": {},
   "source": [
    "##### The distribution is uneven\n",
    "    Therefor Fill NaN with Median"
   ]
  },
  {
   "cell_type": "code",
   "execution_count": 160,
   "metadata": {},
   "outputs": [],
   "source": [
    "median_rev = df['Revenue'].median()\n",
    "df['Revenue'].fillna(median_rev, inplace=True)"
   ]
  },
  {
   "cell_type": "code",
   "execution_count": 161,
   "metadata": {},
   "outputs": [
    {
     "data": {
      "text/plain": [
       "0"
      ]
     },
     "execution_count": 161,
     "metadata": {},
     "output_type": "execute_result"
    }
   ],
   "source": [
    "num_of_na(df['Revenue'])"
   ]
  },
  {
   "cell_type": "markdown",
   "metadata": {},
   "source": [
    "##### No More Work Needed in this Column"
   ]
  },
  {
   "cell_type": "markdown",
   "metadata": {},
   "source": [
    "## Sector and Industry"
   ]
  },
  {
   "cell_type": "markdown",
   "metadata": {},
   "source": [
    "### Check Sector and Industry With NaN"
   ]
  },
  {
   "cell_type": "code",
   "execution_count": 162,
   "metadata": {},
   "outputs": [
    {
     "data": {
      "text/plain": [
       "352"
      ]
     },
     "execution_count": 162,
     "metadata": {},
     "output_type": "execute_result"
    }
   ],
   "source": [
    "num_of_na(df['Sector'])"
   ]
  },
  {
   "cell_type": "code",
   "execution_count": 163,
   "metadata": {},
   "outputs": [
    {
     "data": {
      "text/plain": [
       "352"
      ]
     },
     "execution_count": 163,
     "metadata": {},
     "output_type": "execute_result"
    }
   ],
   "source": [
    "num_of_na(df['Industry'])"
   ]
  },
  {
   "cell_type": "markdown",
   "metadata": {},
   "source": [
    "##### We know that an Industry is related to a particular Sector\n",
    "    Therefore let us see the relation, if they are missing at random, or related"
   ]
  },
  {
   "cell_type": "code",
   "execution_count": 164,
   "metadata": {},
   "outputs": [
    {
     "data": {
      "text/plain": [
       "352"
      ]
     },
     "execution_count": 164,
     "metadata": {},
     "output_type": "execute_result"
    }
   ],
   "source": [
    "len(df[df['Sector'].isna() & df['Industry'].isna()])"
   ]
  },
  {
   "cell_type": "markdown",
   "metadata": {},
   "source": [
    "##### The Values where both are missing and the total missing values of each are equal\n",
    "    Therefore we decide to fill the Sector with the mode, and its respective mode of Industry"
   ]
  },
  {
   "cell_type": "code",
   "execution_count": 165,
   "metadata": {},
   "outputs": [],
   "source": [
    "sector_mode = df['Sector'].mode()[0]\n",
    "df['Sector'].fillna(sector_mode, inplace=True)"
   ]
  },
  {
   "cell_type": "markdown",
   "metadata": {},
   "source": [
    "##### Checking all the Industries related to Sector"
   ]
  },
  {
   "cell_type": "code",
   "execution_count": 166,
   "metadata": {},
   "outputs": [
    {
     "data": {
      "text/plain": [
       "array(['Internet', 'IT Services', nan,\n",
       "       'Enterprise Software & Network Solutions',\n",
       "       'Computer Hardware & Software'], dtype=object)"
      ]
     },
     "execution_count": 166,
     "metadata": {},
     "output_type": "execute_result"
    }
   ],
   "source": [
    "df.groupby('Sector')['Industry'].unique().loc[sector_mode]"
   ]
  },
  {
   "cell_type": "markdown",
   "metadata": {},
   "source": [
    "##### Finding Mode of Industry to see if there is any related values"
   ]
  },
  {
   "cell_type": "code",
   "execution_count": 167,
   "metadata": {},
   "outputs": [
    {
     "data": {
      "text/plain": [
       "0    IT Services\n",
       "dtype: object"
      ]
     },
     "execution_count": 167,
     "metadata": {},
     "output_type": "execute_result"
    }
   ],
   "source": [
    "df['Industry'].mode()"
   ]
  },
  {
   "cell_type": "markdown",
   "metadata": {},
   "source": [
    "##### We can see the Mode of Industry corresponds to a value in the Industry of highest Mode\n",
    "    Therefore Fill the NaN values in industry with the mode"
   ]
  },
  {
   "cell_type": "code",
   "execution_count": 168,
   "metadata": {},
   "outputs": [],
   "source": [
    "mode_industry = df['Industry'].mode()[0]\n",
    "df['Industry'].fillna(mode_industry, inplace=True)"
   ]
  },
  {
   "cell_type": "markdown",
   "metadata": {},
   "source": [
    "##### No More Work Needed in these Columns"
   ]
  },
  {
   "cell_type": "markdown",
   "metadata": {},
   "source": [
    "## Size"
   ]
  },
  {
   "cell_type": "markdown",
   "metadata": {},
   "source": [
    "### Check Size with NaN"
   ]
  },
  {
   "cell_type": "code",
   "execution_count": 169,
   "metadata": {},
   "outputs": [
    {
     "data": {
      "text/plain": [
       "204"
      ]
     },
     "execution_count": 169,
     "metadata": {},
     "output_type": "execute_result"
    }
   ],
   "source": [
    "num_of_na(df['Size'])"
   ]
  },
  {
   "cell_type": "markdown",
   "metadata": {},
   "source": [
    "##### We know that the Revenue of a company is somewhat affected by the Size\n",
    "    Therefore lets check the Revenue based on Size"
   ]
  },
  {
   "cell_type": "code",
   "execution_count": 170,
   "metadata": {},
   "outputs": [
    {
     "data": {
      "text/plain": [
       "Text(0.5, 1.0, 'Count of Companies in each revenue based on Size')"
      ]
     },
     "execution_count": 170,
     "metadata": {},
     "output_type": "execute_result"
    },
    {
     "data": {
      "image/png": "[encoded data removed]",
      "text/plain": [
       "<Figure size 1152x576 with 1 Axes>"
      ]
     },
     "metadata": {
      "needs_background": "light"
     },
     "output_type": "display_data"
    }
   ],
   "source": [
    "fig = plt.figure(figsize=(16,8))\n",
    "x = sns.countplot(df['Revenue'], hue=df['Size'], palette='Set3')\n",
    "x.set_xticklabels(x.get_xticklabels(), rotation=35, horizontalalignment='right')\n",
    "# x.legend(bbox_to_anchor=(1.005, 1), loc=2, borderaxespad=0)\n",
    "plt.title(\"Count of Companies in each revenue based on Size\")"
   ]
  },
  {
   "cell_type": "markdown",
   "metadata": {},
   "source": [
    "##### We can see some relation, therefore lets replace the Size based on Revenue"
   ]
  },
  {
   "cell_type": "code",
   "execution_count": 171,
   "metadata": {},
   "outputs": [],
   "source": [
    "def replace_Size(data):\n",
    "    if isinstance(data['Size'], float):\n",
    "        return grouped_mode('Revenue', 'Size')[data['Revenue']]\n",
    "    return data['Size']"
   ]
  },
  {
   "cell_type": "markdown",
   "metadata": {},
   "source": [
    "### Group with Mode"
   ]
  },
  {
   "cell_type": "code",
   "execution_count": 172,
   "metadata": {},
   "outputs": [],
   "source": [
    "def grouped_mode(gr, val):\n",
    "    return dict(df.groupby(gr)[val].agg(pd.Series.mode))"
   ]
  },
  {
   "cell_type": "code",
   "execution_count": 173,
   "metadata": {},
   "outputs": [],
   "source": [
    "df['Size'] = df.apply(replace_Size, axis=1)"
   ]
  },
  {
   "cell_type": "code",
   "execution_count": 174,
   "metadata": {},
   "outputs": [
    {
     "data": {
      "text/plain": [
       "0"
      ]
     },
     "execution_count": 174,
     "metadata": {},
     "output_type": "execute_result"
    }
   ],
   "source": [
    "num_of_na(df['Size'])"
   ]
  },
  {
   "cell_type": "markdown",
   "metadata": {},
   "source": [
    "##### No More Work Needed in this Column"
   ]
  },
  {
   "cell_type": "markdown",
   "metadata": {},
   "source": [
    "## Type of Ownership"
   ]
  },
  {
   "cell_type": "markdown",
   "metadata": {},
   "source": [
    "### Check Type of Ownership with NaN"
   ]
  },
  {
   "cell_type": "code",
   "execution_count": 175,
   "metadata": {},
   "outputs": [
    {
     "data": {
      "text/plain": [
       "178"
      ]
     },
     "execution_count": 175,
     "metadata": {},
     "output_type": "execute_result"
    }
   ],
   "source": [
    "num_of_na(df['Type of ownership'])"
   ]
  },
  {
   "cell_type": "markdown",
   "metadata": {},
   "source": [
    "##### Type of ownership related to Sector?\n",
    "    Government Companies are Public, and College or university can only be under Education sector\n",
    "    Therefore we can fill it with the mode based on each Sector"
   ]
  },
  {
   "cell_type": "code",
   "execution_count": 176,
   "metadata": {},
   "outputs": [],
   "source": [
    "def replace_Type_Own(data):\n",
    "    if isinstance(data['Type of ownership'], float):\n",
    "        return grouped_mode('Sector', 'Type of ownership')[data['Sector']]\n",
    "    return data['Type of ownership']\n"
   ]
  },
  {
   "cell_type": "code",
   "execution_count": 177,
   "metadata": {},
   "outputs": [],
   "source": [
    "df['Type of ownership'] = df.apply(replace_Type_Own, axis=1)"
   ]
  },
  {
   "cell_type": "code",
   "execution_count": 178,
   "metadata": {},
   "outputs": [
    {
     "data": {
      "text/plain": [
       "0"
      ]
     },
     "execution_count": 178,
     "metadata": {},
     "output_type": "execute_result"
    }
   ],
   "source": [
    "num_of_na(df['Type of ownership'])"
   ]
  },
  {
   "cell_type": "markdown",
   "metadata": {},
   "source": [
    "##### No More Work Needed in this Column"
   ]
  },
  {
   "cell_type": "markdown",
   "metadata": {},
   "source": [
    "## Competitors and Founded"
   ]
  },
  {
   "cell_type": "code",
   "execution_count": 179,
   "metadata": {},
   "outputs": [
    {
     "data": {
      "text/html": [
       "<div>\n",
       "<style scoped>\n",
       "    .dataframe tbody tr th:only-of-type {\n",
       "        vertical-align: middle;\n",
       "    }\n",
       "\n",
       "    .dataframe tbody tr th {\n",
       "        vertical-align: top;\n",
       "    }\n",
       "\n",
       "    .dataframe thead th {\n",
       "        text-align: right;\n",
       "    }\n",
       "</style>\n",
       "<table border=\"1\" class=\"dataframe\">\n",
       "  <thead>\n",
       "    <tr style=\"text-align: right;\">\n",
       "      <th></th>\n",
       "      <th>Job Title</th>\n",
       "      <th>Salary Estimate</th>\n",
       "      <th>Job Description</th>\n",
       "      <th>Rating</th>\n",
       "      <th>Company Name</th>\n",
       "      <th>Location</th>\n",
       "      <th>Headquarters</th>\n",
       "      <th>Size</th>\n",
       "      <th>Founded</th>\n",
       "      <th>Type of ownership</th>\n",
       "      <th>Industry</th>\n",
       "      <th>Sector</th>\n",
       "      <th>Revenue</th>\n",
       "      <th>Competitors</th>\n",
       "      <th>Easy Apply</th>\n",
       "      <th>min_Salary</th>\n",
       "      <th>max_Salary</th>\n",
       "    </tr>\n",
       "  </thead>\n",
       "  <tbody>\n",
       "    <tr>\n",
       "      <th>0</th>\n",
       "      <td>Data Analyst, Center on Immigration and Justic...</td>\n",
       "      <td>51500.0</td>\n",
       "      <td>Are you eager to roll up your sleeves and harn...</td>\n",
       "      <td>3.2</td>\n",
       "      <td>Vera Institute of Justice</td>\n",
       "      <td>New York</td>\n",
       "      <td>New York</td>\n",
       "      <td>201 to 500 employees</td>\n",
       "      <td>1961.0</td>\n",
       "      <td>Nonprofit Organization</td>\n",
       "      <td>Social Assistance</td>\n",
       "      <td>Non-Profit</td>\n",
       "      <td>5.000000e+08</td>\n",
       "      <td>NaN</td>\n",
       "      <td>True</td>\n",
       "      <td>37000</td>\n",
       "      <td>66000</td>\n",
       "    </tr>\n",
       "    <tr>\n",
       "      <th>1</th>\n",
       "      <td>Quality Data Analyst</td>\n",
       "      <td>51500.0</td>\n",
       "      <td>Overview\\n\\nProvides analytical and technical ...</td>\n",
       "      <td>3.8</td>\n",
       "      <td>Visiting Nurse Service of New York</td>\n",
       "      <td>New York</td>\n",
       "      <td>New York</td>\n",
       "      <td>10000+ employees</td>\n",
       "      <td>1893.0</td>\n",
       "      <td>Nonprofit Organization</td>\n",
       "      <td>Health Care Services &amp; Hospitals</td>\n",
       "      <td>Health Care</td>\n",
       "      <td>5.000000e+09</td>\n",
       "      <td>NaN</td>\n",
       "      <td>False</td>\n",
       "      <td>37000</td>\n",
       "      <td>66000</td>\n",
       "    </tr>\n",
       "    <tr>\n",
       "      <th>2</th>\n",
       "      <td>Senior Data Analyst, Insights &amp; Analytics Team...</td>\n",
       "      <td>51500.0</td>\n",
       "      <td>We’re looking for a Senior Data Analyst who ha...</td>\n",
       "      <td>3.4</td>\n",
       "      <td>Squarespace</td>\n",
       "      <td>New York</td>\n",
       "      <td>New York</td>\n",
       "      <td>1001 to 5000 employees</td>\n",
       "      <td>2003.0</td>\n",
       "      <td>Company - Private</td>\n",
       "      <td>Internet</td>\n",
       "      <td>Information Technology</td>\n",
       "      <td>5.000000e+08</td>\n",
       "      <td>GoDaddy</td>\n",
       "      <td>False</td>\n",
       "      <td>37000</td>\n",
       "      <td>66000</td>\n",
       "    </tr>\n",
       "    <tr>\n",
       "      <th>3</th>\n",
       "      <td>Data Analyst</td>\n",
       "      <td>51500.0</td>\n",
       "      <td>Requisition NumberRR-0001939\\nRemote:Yes\\nWe c...</td>\n",
       "      <td>4.1</td>\n",
       "      <td>Celerity</td>\n",
       "      <td>New York</td>\n",
       "      <td>McLean</td>\n",
       "      <td>201 to 500 employees</td>\n",
       "      <td>2002.0</td>\n",
       "      <td>Subsidiary or Business Segment</td>\n",
       "      <td>IT Services</td>\n",
       "      <td>Information Technology</td>\n",
       "      <td>1.000000e+08</td>\n",
       "      <td>NaN</td>\n",
       "      <td>False</td>\n",
       "      <td>37000</td>\n",
       "      <td>66000</td>\n",
       "    </tr>\n",
       "    <tr>\n",
       "      <th>4</th>\n",
       "      <td>Reporting Data Analyst</td>\n",
       "      <td>51500.0</td>\n",
       "      <td>ABOUT FANDUEL GROUP\\n\\nFanDuel Group is a worl...</td>\n",
       "      <td>3.9</td>\n",
       "      <td>FanDuel</td>\n",
       "      <td>New York</td>\n",
       "      <td>New York</td>\n",
       "      <td>501 to 1000 employees</td>\n",
       "      <td>2009.0</td>\n",
       "      <td>Company - Private</td>\n",
       "      <td>Sports &amp; Recreation</td>\n",
       "      <td>Arts, Entertainment &amp; Recreation</td>\n",
       "      <td>5.000000e+08</td>\n",
       "      <td>DraftKings</td>\n",
       "      <td>True</td>\n",
       "      <td>37000</td>\n",
       "      <td>66000</td>\n",
       "    </tr>\n",
       "    <tr>\n",
       "      <th>5</th>\n",
       "      <td>Data Analyst</td>\n",
       "      <td>51500.0</td>\n",
       "      <td>About Cubist\\nCubist Systematic Strategies is ...</td>\n",
       "      <td>3.9</td>\n",
       "      <td>Point72</td>\n",
       "      <td>New York</td>\n",
       "      <td>Stamford</td>\n",
       "      <td>1001 to 5000 employees</td>\n",
       "      <td>2014.0</td>\n",
       "      <td>Company - Private</td>\n",
       "      <td>Investment Banking &amp; Asset Management</td>\n",
       "      <td>Finance</td>\n",
       "      <td>5.000000e+08</td>\n",
       "      <td>NaN</td>\n",
       "      <td>False</td>\n",
       "      <td>37000</td>\n",
       "      <td>66000</td>\n",
       "    </tr>\n",
       "    <tr>\n",
       "      <th>6</th>\n",
       "      <td>Business/Data Analyst (FP&amp;A)</td>\n",
       "      <td>51500.0</td>\n",
       "      <td>Two Sigma is a different kind of investment ma...</td>\n",
       "      <td>4.4</td>\n",
       "      <td>Two Sigma</td>\n",
       "      <td>New York</td>\n",
       "      <td>New York</td>\n",
       "      <td>1001 to 5000 employees</td>\n",
       "      <td>2001.0</td>\n",
       "      <td>Company - Private</td>\n",
       "      <td>Investment Banking &amp; Asset Management</td>\n",
       "      <td>Finance</td>\n",
       "      <td>5.000000e+08</td>\n",
       "      <td>NaN</td>\n",
       "      <td>False</td>\n",
       "      <td>37000</td>\n",
       "      <td>66000</td>\n",
       "    </tr>\n",
       "    <tr>\n",
       "      <th>7</th>\n",
       "      <td>Data Science Analyst</td>\n",
       "      <td>51500.0</td>\n",
       "      <td>Data Science Analyst\\n\\nJob Details\\nLevel\\nEx...</td>\n",
       "      <td>3.7</td>\n",
       "      <td>GNY Insurance Companies</td>\n",
       "      <td>New York</td>\n",
       "      <td>New York</td>\n",
       "      <td>201 to 500 employees</td>\n",
       "      <td>1914.0</td>\n",
       "      <td>Company - Private</td>\n",
       "      <td>Insurance Carriers</td>\n",
       "      <td>Insurance</td>\n",
       "      <td>5.000000e+08</td>\n",
       "      <td>Travelers, Chubb, Crum &amp; Forster</td>\n",
       "      <td>True</td>\n",
       "      <td>37000</td>\n",
       "      <td>66000</td>\n",
       "    </tr>\n",
       "    <tr>\n",
       "      <th>8</th>\n",
       "      <td>Data Analyst</td>\n",
       "      <td>51500.0</td>\n",
       "      <td>The Data Analyst is an integral member of the ...</td>\n",
       "      <td>4.0</td>\n",
       "      <td>DMGT</td>\n",
       "      <td>New York</td>\n",
       "      <td>London</td>\n",
       "      <td>5001 to 10000 employees</td>\n",
       "      <td>1896.0</td>\n",
       "      <td>Company - Public</td>\n",
       "      <td>Venture Capital &amp; Private Equity</td>\n",
       "      <td>Finance</td>\n",
       "      <td>2.000000e+09</td>\n",
       "      <td>Thomson Reuters, Hearst, Pearson</td>\n",
       "      <td>False</td>\n",
       "      <td>37000</td>\n",
       "      <td>66000</td>\n",
       "    </tr>\n",
       "    <tr>\n",
       "      <th>9</th>\n",
       "      <td>Data Analyst, Merchant Health</td>\n",
       "      <td>51500.0</td>\n",
       "      <td>About Us\\n\\nRiskified is the AI platform power...</td>\n",
       "      <td>4.4</td>\n",
       "      <td>Riskified</td>\n",
       "      <td>New York</td>\n",
       "      <td>New York</td>\n",
       "      <td>501 to 1000 employees</td>\n",
       "      <td>2013.0</td>\n",
       "      <td>Company - Private</td>\n",
       "      <td>Research &amp; Development</td>\n",
       "      <td>Business Services</td>\n",
       "      <td>5.000000e+08</td>\n",
       "      <td>Signifyd, Forter</td>\n",
       "      <td>False</td>\n",
       "      <td>37000</td>\n",
       "      <td>66000</td>\n",
       "    </tr>\n",
       "  </tbody>\n",
       "</table>\n",
       "</div>"
      ],
      "text/plain": [
       "                                           Job Title  Salary Estimate  \\\n",
       "0  Data Analyst, Center on Immigration and Justic...          51500.0   \n",
       "1                               Quality Data Analyst          51500.0   \n",
       "2  Senior Data Analyst, Insights & Analytics Team...          51500.0   \n",
       "3                                       Data Analyst          51500.0   \n",
       "4                             Reporting Data Analyst          51500.0   \n",
       "5                                       Data Analyst          51500.0   \n",
       "6                       Business/Data Analyst (FP&A)          51500.0   \n",
       "7                               Data Science Analyst          51500.0   \n",
       "8                                       Data Analyst          51500.0   \n",
       "9                      Data Analyst, Merchant Health          51500.0   \n",
       "\n",
       "                                     Job Description  Rating  \\\n",
       "0  Are you eager to roll up your sleeves and harn...     3.2   \n",
       "1  Overview\\n\\nProvides analytical and technical ...     3.8   \n",
       "2  We’re looking for a Senior Data Analyst who ha...     3.4   \n",
       "3  Requisition NumberRR-0001939\\nRemote:Yes\\nWe c...     4.1   \n",
       "4  ABOUT FANDUEL GROUP\\n\\nFanDuel Group is a worl...     3.9   \n",
       "5  About Cubist\\nCubist Systematic Strategies is ...     3.9   \n",
       "6  Two Sigma is a different kind of investment ma...     4.4   \n",
       "7  Data Science Analyst\\n\\nJob Details\\nLevel\\nEx...     3.7   \n",
       "8  The Data Analyst is an integral member of the ...     4.0   \n",
       "9  About Us\\n\\nRiskified is the AI platform power...     4.4   \n",
       "\n",
       "                         Company Name  Location Headquarters  \\\n",
       "0           Vera Institute of Justice  New York     New York   \n",
       "1  Visiting Nurse Service of New York  New York     New York   \n",
       "2                         Squarespace  New York     New York   \n",
       "3                            Celerity  New York       McLean   \n",
       "4                             FanDuel  New York     New York   \n",
       "5                             Point72  New York     Stamford   \n",
       "6                           Two Sigma  New York     New York   \n",
       "7             GNY Insurance Companies  New York     New York   \n",
       "8                                DMGT  New York       London   \n",
       "9                           Riskified  New York     New York   \n",
       "\n",
       "                      Size  Founded               Type of ownership  \\\n",
       "0     201 to 500 employees   1961.0          Nonprofit Organization   \n",
       "1         10000+ employees   1893.0          Nonprofit Organization   \n",
       "2   1001 to 5000 employees   2003.0               Company - Private   \n",
       "3     201 to 500 employees   2002.0  Subsidiary or Business Segment   \n",
       "4    501 to 1000 employees   2009.0               Company - Private   \n",
       "5   1001 to 5000 employees   2014.0               Company - Private   \n",
       "6   1001 to 5000 employees   2001.0               Company - Private   \n",
       "7     201 to 500 employees   1914.0               Company - Private   \n",
       "8  5001 to 10000 employees   1896.0                Company - Public   \n",
       "9    501 to 1000 employees   2013.0               Company - Private   \n",
       "\n",
       "                                Industry                            Sector  \\\n",
       "0                      Social Assistance                        Non-Profit   \n",
       "1       Health Care Services & Hospitals                       Health Care   \n",
       "2                               Internet            Information Technology   \n",
       "3                            IT Services            Information Technology   \n",
       "4                    Sports & Recreation  Arts, Entertainment & Recreation   \n",
       "5  Investment Banking & Asset Management                           Finance   \n",
       "6  Investment Banking & Asset Management                           Finance   \n",
       "7                     Insurance Carriers                         Insurance   \n",
       "8       Venture Capital & Private Equity                           Finance   \n",
       "9                 Research & Development                 Business Services   \n",
       "\n",
       "        Revenue                       Competitors Easy Apply  min_Salary  \\\n",
       "0  5.000000e+08                               NaN       True       37000   \n",
       "1  5.000000e+09                               NaN      False       37000   \n",
       "2  5.000000e+08                           GoDaddy      False       37000   \n",
       "3  1.000000e+08                               NaN      False       37000   \n",
       "4  5.000000e+08                        DraftKings       True       37000   \n",
       "5  5.000000e+08                               NaN      False       37000   \n",
       "6  5.000000e+08                               NaN      False       37000   \n",
       "7  5.000000e+08  Travelers, Chubb, Crum & Forster       True       37000   \n",
       "8  2.000000e+09  Thomson Reuters, Hearst, Pearson      False       37000   \n",
       "9  5.000000e+08                  Signifyd, Forter      False       37000   \n",
       "\n",
       "   max_Salary  \n",
       "0       66000  \n",
       "1       66000  \n",
       "2       66000  \n",
       "3       66000  \n",
       "4       66000  \n",
       "5       66000  \n",
       "6       66000  \n",
       "7       66000  \n",
       "8       66000  \n",
       "9       66000  "
      ]
     },
     "execution_count": 179,
     "metadata": {},
     "output_type": "execute_result"
    }
   ],
   "source": [
    "df.head(10)"
   ]
  },
  {
   "cell_type": "markdown",
   "metadata": {},
   "source": [
    "### Check Competitors with Na"
   ]
  },
  {
   "cell_type": "code",
   "execution_count": 180,
   "metadata": {},
   "outputs": [
    {
     "data": {
      "text/plain": [
       "1731"
      ]
     },
     "execution_count": 180,
     "metadata": {},
     "output_type": "execute_result"
    }
   ],
   "source": [
    "num_of_na(df['Competitors'])"
   ]
  },
  {
   "cell_type": "markdown",
   "metadata": {},
   "source": [
    "### Check Founded with Na"
   ]
  },
  {
   "cell_type": "code",
   "execution_count": 181,
   "metadata": {},
   "outputs": [
    {
     "data": {
      "text/plain": [
       "659"
      ]
     },
     "execution_count": 181,
     "metadata": {},
     "output_type": "execute_result"
    }
   ],
   "source": [
    "num_of_na(df['Founded'])"
   ]
  },
  {
   "cell_type": "markdown",
   "metadata": {},
   "source": [
    "##### These values are of not much use to us and has many missing values\n",
    "    Therefore let us drop these columns"
   ]
  },
  {
   "cell_type": "code",
   "execution_count": 182,
   "metadata": {},
   "outputs": [],
   "source": [
    "df.drop(['Competitors', 'Founded'], axis=1, inplace=True)"
   ]
  },
  {
   "cell_type": "code",
   "execution_count": 183,
   "metadata": {},
   "outputs": [
    {
     "data": {
      "text/html": [
       "<div>\n",
       "<style scoped>\n",
       "    .dataframe tbody tr th:only-of-type {\n",
       "        vertical-align: middle;\n",
       "    }\n",
       "\n",
       "    .dataframe tbody tr th {\n",
       "        vertical-align: top;\n",
       "    }\n",
       "\n",
       "    .dataframe thead th {\n",
       "        text-align: right;\n",
       "    }\n",
       "</style>\n",
       "<table border=\"1\" class=\"dataframe\">\n",
       "  <thead>\n",
       "    <tr style=\"text-align: right;\">\n",
       "      <th></th>\n",
       "      <th>Job Title</th>\n",
       "      <th>Salary Estimate</th>\n",
       "      <th>Job Description</th>\n",
       "      <th>Rating</th>\n",
       "      <th>Company Name</th>\n",
       "      <th>Location</th>\n",
       "      <th>Headquarters</th>\n",
       "      <th>Size</th>\n",
       "      <th>Type of ownership</th>\n",
       "      <th>Industry</th>\n",
       "      <th>Sector</th>\n",
       "      <th>Revenue</th>\n",
       "      <th>Easy Apply</th>\n",
       "      <th>min_Salary</th>\n",
       "      <th>max_Salary</th>\n",
       "    </tr>\n",
       "  </thead>\n",
       "  <tbody>\n",
       "    <tr>\n",
       "      <th>0</th>\n",
       "      <td>Data Analyst, Center on Immigration and Justic...</td>\n",
       "      <td>51500.0</td>\n",
       "      <td>Are you eager to roll up your sleeves and harn...</td>\n",
       "      <td>3.2</td>\n",
       "      <td>Vera Institute of Justice</td>\n",
       "      <td>New York</td>\n",
       "      <td>New York</td>\n",
       "      <td>201 to 500 employees</td>\n",
       "      <td>Nonprofit Organization</td>\n",
       "      <td>Social Assistance</td>\n",
       "      <td>Non-Profit</td>\n",
       "      <td>5.000000e+08</td>\n",
       "      <td>True</td>\n",
       "      <td>37000</td>\n",
       "      <td>66000</td>\n",
       "    </tr>\n",
       "    <tr>\n",
       "      <th>1</th>\n",
       "      <td>Quality Data Analyst</td>\n",
       "      <td>51500.0</td>\n",
       "      <td>Overview\\n\\nProvides analytical and technical ...</td>\n",
       "      <td>3.8</td>\n",
       "      <td>Visiting Nurse Service of New York</td>\n",
       "      <td>New York</td>\n",
       "      <td>New York</td>\n",
       "      <td>10000+ employees</td>\n",
       "      <td>Nonprofit Organization</td>\n",
       "      <td>Health Care Services &amp; Hospitals</td>\n",
       "      <td>Health Care</td>\n",
       "      <td>5.000000e+09</td>\n",
       "      <td>False</td>\n",
       "      <td>37000</td>\n",
       "      <td>66000</td>\n",
       "    </tr>\n",
       "    <tr>\n",
       "      <th>2</th>\n",
       "      <td>Senior Data Analyst, Insights &amp; Analytics Team...</td>\n",
       "      <td>51500.0</td>\n",
       "      <td>We’re looking for a Senior Data Analyst who ha...</td>\n",
       "      <td>3.4</td>\n",
       "      <td>Squarespace</td>\n",
       "      <td>New York</td>\n",
       "      <td>New York</td>\n",
       "      <td>1001 to 5000 employees</td>\n",
       "      <td>Company - Private</td>\n",
       "      <td>Internet</td>\n",
       "      <td>Information Technology</td>\n",
       "      <td>5.000000e+08</td>\n",
       "      <td>False</td>\n",
       "      <td>37000</td>\n",
       "      <td>66000</td>\n",
       "    </tr>\n",
       "    <tr>\n",
       "      <th>3</th>\n",
       "      <td>Data Analyst</td>\n",
       "      <td>51500.0</td>\n",
       "      <td>Requisition NumberRR-0001939\\nRemote:Yes\\nWe c...</td>\n",
       "      <td>4.1</td>\n",
       "      <td>Celerity</td>\n",
       "      <td>New York</td>\n",
       "      <td>McLean</td>\n",
       "      <td>201 to 500 employees</td>\n",
       "      <td>Subsidiary or Business Segment</td>\n",
       "      <td>IT Services</td>\n",
       "      <td>Information Technology</td>\n",
       "      <td>1.000000e+08</td>\n",
       "      <td>False</td>\n",
       "      <td>37000</td>\n",
       "      <td>66000</td>\n",
       "    </tr>\n",
       "    <tr>\n",
       "      <th>4</th>\n",
       "      <td>Reporting Data Analyst</td>\n",
       "      <td>51500.0</td>\n",
       "      <td>ABOUT FANDUEL GROUP\\n\\nFanDuel Group is a worl...</td>\n",
       "      <td>3.9</td>\n",
       "      <td>FanDuel</td>\n",
       "      <td>New York</td>\n",
       "      <td>New York</td>\n",
       "      <td>501 to 1000 employees</td>\n",
       "      <td>Company - Private</td>\n",
       "      <td>Sports &amp; Recreation</td>\n",
       "      <td>Arts, Entertainment &amp; Recreation</td>\n",
       "      <td>5.000000e+08</td>\n",
       "      <td>True</td>\n",
       "      <td>37000</td>\n",
       "      <td>66000</td>\n",
       "    </tr>\n",
       "  </tbody>\n",
       "</table>\n",
       "</div>"
      ],
      "text/plain": [
       "                                           Job Title  Salary Estimate  \\\n",
       "0  Data Analyst, Center on Immigration and Justic...          51500.0   \n",
       "1                               Quality Data Analyst          51500.0   \n",
       "2  Senior Data Analyst, Insights & Analytics Team...          51500.0   \n",
       "3                                       Data Analyst          51500.0   \n",
       "4                             Reporting Data Analyst          51500.0   \n",
       "\n",
       "                                     Job Description  Rating  \\\n",
       "0  Are you eager to roll up your sleeves and harn...     3.2   \n",
       "1  Overview\\n\\nProvides analytical and technical ...     3.8   \n",
       "2  We’re looking for a Senior Data Analyst who ha...     3.4   \n",
       "3  Requisition NumberRR-0001939\\nRemote:Yes\\nWe c...     4.1   \n",
       "4  ABOUT FANDUEL GROUP\\n\\nFanDuel Group is a worl...     3.9   \n",
       "\n",
       "                         Company Name  Location Headquarters  \\\n",
       "0           Vera Institute of Justice  New York     New York   \n",
       "1  Visiting Nurse Service of New York  New York     New York   \n",
       "2                         Squarespace  New York     New York   \n",
       "3                            Celerity  New York       McLean   \n",
       "4                             FanDuel  New York     New York   \n",
       "\n",
       "                     Size               Type of ownership  \\\n",
       "0    201 to 500 employees          Nonprofit Organization   \n",
       "1        10000+ employees          Nonprofit Organization   \n",
       "2  1001 to 5000 employees               Company - Private   \n",
       "3    201 to 500 employees  Subsidiary or Business Segment   \n",
       "4   501 to 1000 employees               Company - Private   \n",
       "\n",
       "                           Industry                            Sector  \\\n",
       "0                 Social Assistance                        Non-Profit   \n",
       "1  Health Care Services & Hospitals                       Health Care   \n",
       "2                          Internet            Information Technology   \n",
       "3                       IT Services            Information Technology   \n",
       "4               Sports & Recreation  Arts, Entertainment & Recreation   \n",
       "\n",
       "        Revenue Easy Apply  min_Salary  max_Salary  \n",
       "0  5.000000e+08       True       37000       66000  \n",
       "1  5.000000e+09      False       37000       66000  \n",
       "2  5.000000e+08      False       37000       66000  \n",
       "3  1.000000e+08      False       37000       66000  \n",
       "4  5.000000e+08       True       37000       66000  "
      ]
     },
     "execution_count": 183,
     "metadata": {},
     "output_type": "execute_result"
    }
   ],
   "source": [
    "df.head()"
   ]
  },
  {
   "cell_type": "markdown",
   "metadata": {},
   "source": [
    "##### No More Work Needed in these Columns"
   ]
  },
  {
   "cell_type": "code",
   "execution_count": 184,
   "metadata": {},
   "outputs": [
    {
     "data": {
      "text/plain": [
       "Job Title            0\n",
       "Salary Estimate      0\n",
       "Job Description      0\n",
       "Rating               0\n",
       "Company Name         0\n",
       "Location             0\n",
       "Headquarters         0\n",
       "Size                 0\n",
       "Type of ownership    0\n",
       "Industry             0\n",
       "Sector               0\n",
       "Revenue              0\n",
       "Easy Apply           0\n",
       "min_Salary           0\n",
       "max_Salary           0\n",
       "dtype: int64"
      ]
     },
     "execution_count": 184,
     "metadata": {},
     "output_type": "execute_result"
    }
   ],
   "source": [
    "num_of_na(df)"
   ]
  },
  {
   "cell_type": "markdown",
   "metadata": {},
   "source": [
    "# Pickle the Cleaned Dataset"
   ]
  },
  {
   "cell_type": "code",
   "execution_count": 186,
   "metadata": {},
   "outputs": [],
   "source": [
    "import pickle\n",
    "pickle_out = open(\"../../Datasets/CleanedDataAnalyst.pickle\", \"wb\")\n",
    "pickle.dump(df, pickle_out)\n",
    "pickle_out.close()"
   ]
  },
  {
   "cell_type": "markdown",
   "metadata": {},
   "source": [
    "# Read Pickled DF"
   ]
  },
  {
   "cell_type": "code",
   "execution_count": 187,
   "metadata": {},
   "outputs": [],
   "source": [
    "import pickle\n",
    "pickle_in = open(\"../../Datasets/CleanedDataAnalyst.pickle\", \"rb\")\n",
    "df = pickle.load(pickle_in)\n",
    "pickle_in.close()"
   ]
  },
  {
   "cell_type": "markdown",
   "metadata": {},
   "source": [
    "# Job Title Cleaning"
   ]
  },
  {
   "cell_type": "code",
   "execution_count": 188,
   "metadata": {},
   "outputs": [],
   "source": [
    "import re"
   ]
  },
  {
   "cell_type": "code",
   "execution_count": 189,
   "metadata": {},
   "outputs": [
    {
     "data": {
      "text/plain": [
       "Text(0.5, 1.0, 'Most frequent Job Titles')"
      ]
     },
     "execution_count": 189,
     "metadata": {},
     "output_type": "execute_result"
    },
    {
     "data": {
      "image/png": "[encoded data removed]",
      "text/plain": [
       "<Figure size 1080x360 with 1 Axes>"
      ]
     },
     "metadata": {
      "needs_background": "light"
     },
     "output_type": "display_data"
    }
   ],
   "source": [
    "fig=plt.figure(figsize=(15,5))\n",
    "chart=sns.countplot(x='Job Title',data=df,order=pd.value_counts(df[\"Job Title\"]).iloc[:20].index,palette='RdPu')\n",
    "chart.set_xticklabels(chart.get_xticklabels(), rotation=35, horizontalalignment='right')\n",
    "chart.set_title(label='Most frequent Job Titles',loc='center')"
   ]
  },
  {
   "cell_type": "markdown",
   "metadata": {},
   "source": [
    "## Removing Any Useless characters and fixing Senior and Junior"
   ]
  },
  {
   "cell_type": "code",
   "execution_count": 190,
   "metadata": {},
   "outputs": [],
   "source": [
    "def remove_stray(i):\n",
    "    result = re.sub(r\"\\W\", \" \", i, flags=re.I)\n",
    "    result = re.sub(r\"\\s+\", \" \", i, flags=re.I)\n",
    "    result = re.sub(r\"\\.!@\\$+\", \"\", i, flags=re.I)\n",
    "    result = re.sub(r\"\\s+\", \" \", i, flags=re.I)\n",
    "    result = re.sub(r\"(S|s)[a-zA-Z]*(R|r)\\.?\", \"Senior\", i)\n",
    "    result = re.sub(r\"Ma(S|s)[a-zA-Z]*(R|r)\\.?\", \"Senior\", result)\n",
    "    result = re.sub(r\"Re(S|s)[a-zA-Z]*(R|r)\\.?\", \"Senior\", result)\n",
    "    result = re.sub(r\"(J|j)[a-z]*[A-Z]*(R|r).?\", \"Junior\", i)\n",
    "    \n",
    "    return result.strip()"
   ]
  },
  {
   "cell_type": "markdown",
   "metadata": {},
   "source": [
    "## Extracting Job Positions"
   ]
  },
  {
   "cell_type": "code",
   "execution_count": 191,
   "metadata": {},
   "outputs": [],
   "source": [
    "def Job_Position(x):\n",
    "    x = x.lower()\n",
    "    if \"senior\" in x or \"sr.\" in x or \"master\" in x:\n",
    "        return \"Senior\"\n",
    "    elif \"junior\" in x or \"jr.\" in x:\n",
    "        return \"Junior\"\n",
    "    elif \"associate\" in x:\n",
    "        return \"Associate\"\n",
    "    elif \"lead\" in x:\n",
    "        return \"Lead Analyst\"\n",
    "    elif \"graduate\" in x or \"entry level\" in x or \"intern\" in x or \"practice\" in x:\n",
    "        return \"Intern\"\n",
    "    elif \"report\" in x:\n",
    "        return \"Reporter\"\n",
    "    elif \"advisory\" in x or \"advise\" in x:\n",
    "        return \"Advisory\"\n",
    "    elif \"temp\" in x:\n",
    "        return \"Temporary\"\n",
    "    elif \"stitch\" in x:\n",
    "        return \"Data Stitcher\"\n",
    "    elif \"data entry\":\n",
    "        return \"Clerk\"\n",
    "    elif \"coordinator\" in x:\n",
    "        return \"Coordinator\"\n",
    "    else:\n",
    "        return \"General\""
   ]
  },
  {
   "cell_type": "markdown",
   "metadata": {},
   "source": [
    "## Cleaning Job Title"
   ]
  },
  {
   "cell_type": "code",
   "execution_count": 192,
   "metadata": {},
   "outputs": [],
   "source": [
    "def clean_JobTitle(df):\n",
    "    for i in range(df.shape[0]):\n",
    "        job_cat = \"Data Analyst\"\n",
    "        x = df.iloc[i, 0].lower()\n",
    "        if \"big data\" in x or \"bigdata\" in x or \"hive \" in x:\n",
    "            job_cat = \"Big Data Analyst\"\n",
    "        elif \"finance\" in x or \"financial\" in x or \"invest\" in x:\n",
    "            job_cat = \"Financial Data Analyst\"\n",
    "        elif \"health\" in x or \"clinic\" in x or \"endocrinology\" in x:\n",
    "            job_cat = \"Health & Services Data Analyst\"\n",
    "        elif \"market\" in x or \"ecommerce\" in x or \"e com\" in x or \"sales\" in x:\n",
    "            job_cat = \"Market Data Analyst\"\n",
    "        elif \"business\" in x or \"bi \" in x or \"business intelligence\" in x or \"power bi\" in x:\n",
    "            job_cat = \"Business Intelligence Analyst\"\n",
    "        elif \"risk\" in x:\n",
    "            job_cat = \"Risk Analyst\"\n",
    "        elif \"research\" in x or \"discover\" in x:\n",
    "            job_cat = \"Research Data Analyst\"\n",
    "        elif \"strategy\" in x:\n",
    "            job_cat = \"Strategy & Operations Data Analyst\"\n",
    "        elif \"service\" in x or \"operation\" in x:\n",
    "            job_cat = \"Service & Operations Data Analyst\"\n",
    "        elif \"flood\" in x:\n",
    "            job_cat = \"Flood Planning Data Analyst\"\n",
    "        elif \"solution\" in x:\n",
    "            job_cat = \"Solutions Data Analyst\"\n",
    "        elif \"navy\" in x or \"tax\" in x:\n",
    "            job_cat = \"Government Sector Data Analyst\"\n",
    "        elif \"account\" in x or \"aca \" in x or \"acca \" in x:\n",
    "            job_cat = \"Accounting Data Analyst\"\n",
    "        elif \"acoustic\" in x:\n",
    "            job_cat = \"Acoustics Data Analyst\"\n",
    "        elif \"migration\" in x:\n",
    "            job_cat = \"Migration Data Analyst\"\n",
    "        elif \"advertisment\" in x or \"ad \" in x or \"commercial\" in x:\n",
    "            job_cat = \"Advertisment Data Analyst\"\n",
    "        elif \"ai insight\" in x:\n",
    "            job_cat = \"AI Insights Data Analyst\"\n",
    "        elif \"aircraft\" in x:\n",
    "            job_cat = \"Aircraft Data Analyst\"\n",
    "        elif \"global\" in x:\n",
    "            job_cat = \"Global Data Analyst\"\n",
    "        elif \"design\" in x or \"program\" in x:\n",
    "            job_cat = \"Program & Design Data Analyst\"\n",
    "        elif \"warehouse\" in x:\n",
    "            job_cat = \"Data Warehouse Analyst\"\n",
    "        elif \"system\" in x:\n",
    "            job_cat = \"Systems Data Analyst\"\n",
    "        elif \"pharmaceutical\" in x or \"medicine\" in x or \"biochemical\" in x or \"biomedicine\" in x:\n",
    "            job_cat = \"Pharmaceutical Data Analyst\"\n",
    "        elif \"supply chain\" in x:\n",
    "            job_cat = \"Supply Chain Data Analyst\"\n",
    "        elif \"integrity\" in x or \"copyright\" in x:\n",
    "            job_cat = \"Data Integrity Analyst\"\n",
    "        elif \"human \" in x or \"hr \" in x:\n",
    "            job_cat = \"Human Resource Data Analyst\"\n",
    "        elif \"quality\" in x:\n",
    "            job_cat = \"Product Quality Data Analyst\"\n",
    "        elif \"product\" in x:\n",
    "            job_cat = \"Product Data Analyst \"\n",
    "        elif \"application\" in x:\n",
    "            job_cat = \"Application Data Analyst\"\n",
    "        elif \"player\" in x:\n",
    "            job_cat = \"Player Support Data Analyst\"\n",
    "        elif \"behaviour\" in x or \"behavior\" in x:\n",
    "            job_cat = \"Behavioural Data Analyst\"\n",
    "        elif \"biological\" in x:\n",
    "            job_cat = \"Biological Data Analyst\"\n",
    "        elif \"governance\" in x:\n",
    "            job_cat = \"Data Governance Analyst\"\n",
    "        elif \"call\" in x:\n",
    "            job_cat = \"Call Data Analyst\"\n",
    "        elif \"card \" in x:\n",
    "            job_cat = \"Card Data Analyst\"\n",
    "        elif \"geographic\" in x:\n",
    "            job_cat = \"Geographic Information Data Analyst\"\n",
    "        elif \"claims\" in x:\n",
    "            job_cat = \"Claims Data Analyst\"\n",
    "        elif \"configuration\" in x:\n",
    "            job_cat = \"Configuration Data Analyst\"\n",
    "        elif \"security\" in x:\n",
    "            job_cat = \"Security Data Analyst\"\n",
    "        elif \"public\" in x or \"customer\" in x or \"family\" in x:\n",
    "            job_cat = \"Public Data Analyst\"\n",
    "        elif \"retail\" in x:\n",
    "            job_cat = \"Retail Data Analyst\"\n",
    "        elif \"game\" in x:\n",
    "            job_cat = \"Game Data Analyst\"\n",
    "        elif \"genetic\" in x or \"genomic\" in x:\n",
    "            job_cat = \"Genetics & Genomics Data Analyst\"\n",
    "        elif \"conversion\" in x:\n",
    "            job_cat = \"Data Conversion Analyst\"\n",
    "        elif \"management\" in x or \"mgmt \" in x:\n",
    "            job_cat = \"Data Management Analyst\"\n",
    "        elif \"stock\" in x or \"coin\" in x or \"trade\" in x or \"trading\" in x or \"mutual fund\" in x:\n",
    "            job_cat = \"Stock Market Data Analyst\"\n",
    "        elif \"lineage\" in x or \"link\" in x:\n",
    "            job_cat = \"Lineage & Link Data Analyst\"\n",
    "        elif \"data entry\" in x:\n",
    "            job_cat = \"Data Entry\"\n",
    "        elif \"environment\" in x:\n",
    "            job_cat = \"Environment Data Analyst\"\n",
    "        elif \"epidemiologist\" in x or \"covid\" in x or \"hiv \" in x or \"epidemiology\" in x:\n",
    "            job_cat = \"Epidemiologist Data Analyst\"\n",
    "        elif \"equity\" in x:\n",
    "            job_cat = \"Equity Data Analyst\"\n",
    "        elif \"fleet optimization\" in x:\n",
    "            job_cat = \"Fleet Optimization Data Analyst\"\n",
    "        elif \"loan\" in x or \"lend\" in x:\n",
    "            job_cat = \"Loan Data Analyst\"\n",
    "        elif \"manufacturing\" in x:\n",
    "            job_cat = \"Manufacturing Data Analyst\"\n",
    "        elif \"remediation\" in x:\n",
    "            job_cat = \"Remidiation Data Analyst\"\n",
    "        elif \"media\" in x:\n",
    "            job_cat = \"Media Data Analyst\"\n",
    "        elif \"cloud \" in x or \"AWS\" in x or \"Azure\" in x:\n",
    "            job_cat = \"Cloud Data Analyst\"\n",
    "        elif \"revenue\" in x:\n",
    "            job_cat = \"Revenue Data Analyst\"\n",
    "        elif \"federal\" in x or \"911\" in x or \"9-1-1\" in x:\n",
    "            job_cat = \"Federal Data Analyst\"\n",
    "        else:\n",
    "            job_cat = \"Data Analyst\"\n",
    "        df.iloc[i, -2] = job_cat\n",
    "        df.iloc[i, -1] = Job_Position(x)"
   ]
  },
  {
   "cell_type": "markdown",
   "metadata": {},
   "source": [
    "## Creating Two New Columns\n",
    "    New Job Title\n",
    "    Job Position"
   ]
  },
  {
   "cell_type": "code",
   "execution_count": 193,
   "metadata": {},
   "outputs": [],
   "source": [
    "df[\"New Job Title\"] = None\n",
    "df[\"Job Position\"] = \"General\"\n",
    "df.iloc[:,0] = df.iloc[:,0].apply(lambda x : remove_stray(x))\n",
    "clean_JobTitle(df)"
   ]
  },
  {
   "cell_type": "markdown",
   "metadata": {},
   "source": [
    "## Check the New Visualisation"
   ]
  },
  {
   "cell_type": "code",
   "execution_count": 195,
   "metadata": {},
   "outputs": [
    {
     "data": {
      "text/plain": [
       "Text(0.5, 1.0, 'Most frequent Job Titles')"
      ]
     },
     "execution_count": 195,
     "metadata": {},
     "output_type": "execute_result"
    },
    {
     "data": {
      "image/png": "[encoded data removed]",
      "text/plain": [
       "<Figure size 1080x360 with 1 Axes>"
      ]
     },
     "metadata": {
      "needs_background": "light"
     },
     "output_type": "display_data"
    }
   ],
   "source": [
    "fig=plt.figure(figsize=(15,5))\n",
    "chart=sns.countplot(x='New Job Title',data=df,order=pd.value_counts(df[\"New Job Title\"]).iloc[:10].index,palette='RdPu')\n",
    "chart.set_xticklabels(chart.get_xticklabels(), rotation=35, horizontalalignment='right')\n",
    "chart.set_title(label='Most frequent Job Titles',loc='center')"
   ]
  },
  {
   "cell_type": "code",
   "execution_count": 196,
   "metadata": {},
   "outputs": [
    {
     "data": {
      "text/plain": [
       "58"
      ]
     },
     "execution_count": 196,
     "metadata": {},
     "output_type": "execute_result"
    }
   ],
   "source": [
    "df[\"New Job Title\"].nunique()"
   ]
  },
  {
   "cell_type": "code",
   "execution_count": 197,
   "metadata": {},
   "outputs": [
    {
     "data": {
      "text/plain": [
       "10"
      ]
     },
     "execution_count": 197,
     "metadata": {},
     "output_type": "execute_result"
    }
   ],
   "source": [
    "df[\"Job Position\"].nunique()"
   ]
  },
  {
   "cell_type": "code",
   "execution_count": 198,
   "metadata": {},
   "outputs": [
    {
     "data": {
      "text/html": [
       "<div>\n",
       "<style scoped>\n",
       "    .dataframe tbody tr th:only-of-type {\n",
       "        vertical-align: middle;\n",
       "    }\n",
       "\n",
       "    .dataframe tbody tr th {\n",
       "        vertical-align: top;\n",
       "    }\n",
       "\n",
       "    .dataframe thead th {\n",
       "        text-align: right;\n",
       "    }\n",
       "</style>\n",
       "<table border=\"1\" class=\"dataframe\">\n",
       "  <thead>\n",
       "    <tr style=\"text-align: right;\">\n",
       "      <th></th>\n",
       "      <th>Job Title</th>\n",
       "      <th>Salary Estimate</th>\n",
       "      <th>Job Description</th>\n",
       "      <th>Rating</th>\n",
       "      <th>Company Name</th>\n",
       "      <th>Location</th>\n",
       "      <th>Headquarters</th>\n",
       "      <th>Size</th>\n",
       "      <th>Type of ownership</th>\n",
       "      <th>Industry</th>\n",
       "      <th>Sector</th>\n",
       "      <th>Revenue</th>\n",
       "      <th>Easy Apply</th>\n",
       "      <th>min_Salary</th>\n",
       "      <th>max_Salary</th>\n",
       "      <th>New Job Title</th>\n",
       "      <th>Job Position</th>\n",
       "    </tr>\n",
       "  </thead>\n",
       "  <tbody>\n",
       "    <tr>\n",
       "      <th>0</th>\n",
       "      <td>Data Analyst, Center on Immigration and Justic...</td>\n",
       "      <td>51500.0</td>\n",
       "      <td>Are you eager to roll up your sleeves and harn...</td>\n",
       "      <td>3.2</td>\n",
       "      <td>Vera Institute of Justice</td>\n",
       "      <td>New York</td>\n",
       "      <td>New York</td>\n",
       "      <td>201 to 500 employees</td>\n",
       "      <td>Nonprofit Organization</td>\n",
       "      <td>Social Assistance</td>\n",
       "      <td>Non-Profit</td>\n",
       "      <td>5.000000e+08</td>\n",
       "      <td>True</td>\n",
       "      <td>37000</td>\n",
       "      <td>66000</td>\n",
       "      <td>Migration Data Analyst</td>\n",
       "      <td>Clerk</td>\n",
       "    </tr>\n",
       "    <tr>\n",
       "      <th>1</th>\n",
       "      <td>Quality Data Analyst</td>\n",
       "      <td>51500.0</td>\n",
       "      <td>Overview\\n\\nProvides analytical and technical ...</td>\n",
       "      <td>3.8</td>\n",
       "      <td>Visiting Nurse Service of New York</td>\n",
       "      <td>New York</td>\n",
       "      <td>New York</td>\n",
       "      <td>10000+ employees</td>\n",
       "      <td>Nonprofit Organization</td>\n",
       "      <td>Health Care Services &amp; Hospitals</td>\n",
       "      <td>Health Care</td>\n",
       "      <td>5.000000e+09</td>\n",
       "      <td>False</td>\n",
       "      <td>37000</td>\n",
       "      <td>66000</td>\n",
       "      <td>Product Quality Data Analyst</td>\n",
       "      <td>Clerk</td>\n",
       "    </tr>\n",
       "    <tr>\n",
       "      <th>2</th>\n",
       "      <td>Senior Data Analyst, Insights &amp; Analytics Team...</td>\n",
       "      <td>51500.0</td>\n",
       "      <td>We’re looking for a Senior Data Analyst who ha...</td>\n",
       "      <td>3.4</td>\n",
       "      <td>Squarespace</td>\n",
       "      <td>New York</td>\n",
       "      <td>New York</td>\n",
       "      <td>1001 to 5000 employees</td>\n",
       "      <td>Company - Private</td>\n",
       "      <td>Internet</td>\n",
       "      <td>Information Technology</td>\n",
       "      <td>5.000000e+08</td>\n",
       "      <td>False</td>\n",
       "      <td>37000</td>\n",
       "      <td>66000</td>\n",
       "      <td>Service &amp; Operations Data Analyst</td>\n",
       "      <td>Senior</td>\n",
       "    </tr>\n",
       "    <tr>\n",
       "      <th>3</th>\n",
       "      <td>Data Analyst</td>\n",
       "      <td>51500.0</td>\n",
       "      <td>Requisition NumberRR-0001939\\nRemote:Yes\\nWe c...</td>\n",
       "      <td>4.1</td>\n",
       "      <td>Celerity</td>\n",
       "      <td>New York</td>\n",
       "      <td>McLean</td>\n",
       "      <td>201 to 500 employees</td>\n",
       "      <td>Subsidiary or Business Segment</td>\n",
       "      <td>IT Services</td>\n",
       "      <td>Information Technology</td>\n",
       "      <td>1.000000e+08</td>\n",
       "      <td>False</td>\n",
       "      <td>37000</td>\n",
       "      <td>66000</td>\n",
       "      <td>Data Analyst</td>\n",
       "      <td>Clerk</td>\n",
       "    </tr>\n",
       "    <tr>\n",
       "      <th>4</th>\n",
       "      <td>Reporting Data Analyst</td>\n",
       "      <td>51500.0</td>\n",
       "      <td>ABOUT FANDUEL GROUP\\n\\nFanDuel Group is a worl...</td>\n",
       "      <td>3.9</td>\n",
       "      <td>FanDuel</td>\n",
       "      <td>New York</td>\n",
       "      <td>New York</td>\n",
       "      <td>501 to 1000 employees</td>\n",
       "      <td>Company - Private</td>\n",
       "      <td>Sports &amp; Recreation</td>\n",
       "      <td>Arts, Entertainment &amp; Recreation</td>\n",
       "      <td>5.000000e+08</td>\n",
       "      <td>True</td>\n",
       "      <td>37000</td>\n",
       "      <td>66000</td>\n",
       "      <td>Data Analyst</td>\n",
       "      <td>Reporter</td>\n",
       "    </tr>\n",
       "  </tbody>\n",
       "</table>\n",
       "</div>"
      ],
      "text/plain": [
       "                                           Job Title  Salary Estimate  \\\n",
       "0  Data Analyst, Center on Immigration and Justic...          51500.0   \n",
       "1                               Quality Data Analyst          51500.0   \n",
       "2  Senior Data Analyst, Insights & Analytics Team...          51500.0   \n",
       "3                                       Data Analyst          51500.0   \n",
       "4                             Reporting Data Analyst          51500.0   \n",
       "\n",
       "                                     Job Description  Rating  \\\n",
       "0  Are you eager to roll up your sleeves and harn...     3.2   \n",
       "1  Overview\\n\\nProvides analytical and technical ...     3.8   \n",
       "2  We’re looking for a Senior Data Analyst who ha...     3.4   \n",
       "3  Requisition NumberRR-0001939\\nRemote:Yes\\nWe c...     4.1   \n",
       "4  ABOUT FANDUEL GROUP\\n\\nFanDuel Group is a worl...     3.9   \n",
       "\n",
       "                         Company Name  Location Headquarters  \\\n",
       "0           Vera Institute of Justice  New York     New York   \n",
       "1  Visiting Nurse Service of New York  New York     New York   \n",
       "2                         Squarespace  New York     New York   \n",
       "3                            Celerity  New York       McLean   \n",
       "4                             FanDuel  New York     New York   \n",
       "\n",
       "                     Size               Type of ownership  \\\n",
       "0    201 to 500 employees          Nonprofit Organization   \n",
       "1        10000+ employees          Nonprofit Organization   \n",
       "2  1001 to 5000 employees               Company - Private   \n",
       "3    201 to 500 employees  Subsidiary or Business Segment   \n",
       "4   501 to 1000 employees               Company - Private   \n",
       "\n",
       "                           Industry                            Sector  \\\n",
       "0                 Social Assistance                        Non-Profit   \n",
       "1  Health Care Services & Hospitals                       Health Care   \n",
       "2                          Internet            Information Technology   \n",
       "3                       IT Services            Information Technology   \n",
       "4               Sports & Recreation  Arts, Entertainment & Recreation   \n",
       "\n",
       "        Revenue Easy Apply  min_Salary  max_Salary  \\\n",
       "0  5.000000e+08       True       37000       66000   \n",
       "1  5.000000e+09      False       37000       66000   \n",
       "2  5.000000e+08      False       37000       66000   \n",
       "3  1.000000e+08      False       37000       66000   \n",
       "4  5.000000e+08       True       37000       66000   \n",
       "\n",
       "                       New Job Title Job Position  \n",
       "0             Migration Data Analyst        Clerk  \n",
       "1       Product Quality Data Analyst        Clerk  \n",
       "2  Service & Operations Data Analyst       Senior  \n",
       "3                       Data Analyst        Clerk  \n",
       "4                       Data Analyst     Reporter  "
      ]
     },
     "execution_count": 198,
     "metadata": {},
     "output_type": "execute_result"
    }
   ],
   "source": [
    "df.head()"
   ]
  },
  {
   "cell_type": "code",
   "execution_count": 199,
   "metadata": {},
   "outputs": [
    {
     "data": {
      "text/html": [
       "<div>\n",
       "<style scoped>\n",
       "    .dataframe tbody tr th:only-of-type {\n",
       "        vertical-align: middle;\n",
       "    }\n",
       "\n",
       "    .dataframe tbody tr th {\n",
       "        vertical-align: top;\n",
       "    }\n",
       "\n",
       "    .dataframe thead th {\n",
       "        text-align: right;\n",
       "    }\n",
       "</style>\n",
       "<table border=\"1\" class=\"dataframe\">\n",
       "  <thead>\n",
       "    <tr style=\"text-align: right;\">\n",
       "      <th></th>\n",
       "      <th>Salary Estimate</th>\n",
       "      <th>Rating</th>\n",
       "      <th>Revenue</th>\n",
       "      <th>min_Salary</th>\n",
       "      <th>max_Salary</th>\n",
       "    </tr>\n",
       "  </thead>\n",
       "  <tbody>\n",
       "    <tr>\n",
       "      <th>count</th>\n",
       "      <td>2252.000000</td>\n",
       "      <td>2252.000000</td>\n",
       "      <td>2.252000e+03</td>\n",
       "      <td>2252.000000</td>\n",
       "      <td>2252.000000</td>\n",
       "    </tr>\n",
       "    <tr>\n",
       "      <th>mean</th>\n",
       "      <td>72115.452931</td>\n",
       "      <td>3.728064</td>\n",
       "      <td>1.720945e+09</td>\n",
       "      <td>54261.989343</td>\n",
       "      <td>89968.916519</td>\n",
       "    </tr>\n",
       "    <tr>\n",
       "      <th>std</th>\n",
       "      <td>23602.211929</td>\n",
       "      <td>0.628773</td>\n",
       "      <td>3.107254e+09</td>\n",
       "      <td>19577.063279</td>\n",
       "      <td>29316.467643</td>\n",
       "    </tr>\n",
       "    <tr>\n",
       "      <th>min</th>\n",
       "      <td>33500.000000</td>\n",
       "      <td>1.000000</td>\n",
       "      <td>1.000000e+06</td>\n",
       "      <td>24000.000000</td>\n",
       "      <td>38000.000000</td>\n",
       "    </tr>\n",
       "    <tr>\n",
       "      <th>25%</th>\n",
       "      <td>58000.000000</td>\n",
       "      <td>3.400000</td>\n",
       "      <td>1.000000e+08</td>\n",
       "      <td>41000.000000</td>\n",
       "      <td>70000.000000</td>\n",
       "    </tr>\n",
       "    <tr>\n",
       "      <th>50%</th>\n",
       "      <td>69000.000000</td>\n",
       "      <td>3.700000</td>\n",
       "      <td>5.000000e+08</td>\n",
       "      <td>50000.000000</td>\n",
       "      <td>87000.000000</td>\n",
       "    </tr>\n",
       "    <tr>\n",
       "      <th>75%</th>\n",
       "      <td>80500.000000</td>\n",
       "      <td>4.000000</td>\n",
       "      <td>5.000000e+08</td>\n",
       "      <td>64000.000000</td>\n",
       "      <td>104000.000000</td>\n",
       "    </tr>\n",
       "    <tr>\n",
       "      <th>max</th>\n",
       "      <td>150000.000000</td>\n",
       "      <td>5.000000</td>\n",
       "      <td>1.000000e+10</td>\n",
       "      <td>113000.000000</td>\n",
       "      <td>190000.000000</td>\n",
       "    </tr>\n",
       "  </tbody>\n",
       "</table>\n",
       "</div>"
      ],
      "text/plain": [
       "       Salary Estimate       Rating       Revenue     min_Salary  \\\n",
       "count      2252.000000  2252.000000  2.252000e+03    2252.000000   \n",
       "mean      72115.452931     3.728064  1.720945e+09   54261.989343   \n",
       "std       23602.211929     0.628773  3.107254e+09   19577.063279   \n",
       "min       33500.000000     1.000000  1.000000e+06   24000.000000   \n",
       "25%       58000.000000     3.400000  1.000000e+08   41000.000000   \n",
       "50%       69000.000000     3.700000  5.000000e+08   50000.000000   \n",
       "75%       80500.000000     4.000000  5.000000e+08   64000.000000   \n",
       "max      150000.000000     5.000000  1.000000e+10  113000.000000   \n",
       "\n",
       "          max_Salary  \n",
       "count    2252.000000  \n",
       "mean    89968.916519  \n",
       "std     29316.467643  \n",
       "min     38000.000000  \n",
       "25%     70000.000000  \n",
       "50%     87000.000000  \n",
       "75%    104000.000000  \n",
       "max    190000.000000  "
      ]
     },
     "execution_count": 199,
     "metadata": {},
     "output_type": "execute_result"
    }
   ],
   "source": [
    "df.describe()"
   ]
  },
  {
   "cell_type": "markdown",
   "metadata": {},
   "source": [
    "# Pickle Newly Cleaned DataSet"
   ]
  },
  {
   "cell_type": "code",
   "execution_count": 200,
   "metadata": {},
   "outputs": [],
   "source": [
    "import pickle\n",
    "pickle_out = open(\"../../Datasets/CleanedDataAnalyst.pickle\", \"wb\")\n",
    "pickle.dump(df, pickle_out)\n",
    "pickle_out.close()"
   ]
  }
 ],
 "metadata": {
  "kernelspec": {
   "display_name": "Python 3",
   "language": "python",
   "name": "python3"
  },
  "language_info": {
   "codemirror_mode": {
    "name": "ipython",
    "version": 3
   },
   "file_extension": ".py",
   "mimetype": "text/x-python",
   "name": "python",
   "nbconvert_exporter": "python",
   "pygments_lexer": "ipython3",
   "version": "3.8.5"
  }
 },
 "nbformat": 4,
 "nbformat_minor": 4
}
